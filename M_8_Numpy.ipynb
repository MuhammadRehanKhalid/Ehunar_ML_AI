{
 "cells": [
  {
   "cell_type": "code",
   "execution_count": 1,
   "id": "9d406ba1-05bd-41b1-9dde-82c71b3ae2f2",
   "metadata": {},
   "outputs": [],
   "source": [
    "import numpy as np\n",
    "import pandas as pd\n",
    "import random as rd\n",
    "# import matplotlib.pyplot as plt\n",
    "# import seaborn as sns\n",
    "# import sklearn as sk"
   ]
  },
  {
   "cell_type": "markdown",
   "id": "e9b4eae0-de9e-4a12-be00-2366c547e6c9",
   "metadata": {},
   "source": [
    "# Numpy\n",
    "## Most used functions\n",
    "## Data Types\n",
    "## Creating and viewing arrays \n",
    "## manipulating arrays"
   ]
  },
  {
   "cell_type": "code",
   "execution_count": 2,
   "id": "dbd78413-e739-4619-914b-248228d5bfbf",
   "metadata": {},
   "outputs": [
    {
     "data": {
      "text/plain": [
       "array([1, 2, 3])"
      ]
     },
     "execution_count": 2,
     "metadata": {},
     "output_type": "execute_result"
    }
   ],
   "source": [
    "# Array \n",
    "n1d = np.array([1,2,3])\n",
    "type(n1d)\n",
    "n1d"
   ]
  },
  {
   "cell_type": "code",
   "execution_count": 3,
   "id": "b9fee40f-0f2c-4731-bd50-c131078e4023",
   "metadata": {},
   "outputs": [
    {
     "data": {
      "text/plain": [
       "array([[1, 2, 3, 4, 5],\n",
       "       [6, 7, 8, 9, 0]])"
      ]
     },
     "execution_count": 3,
     "metadata": {},
     "output_type": "execute_result"
    }
   ],
   "source": [
    "n2d = np.array([[1,2,3,4,5],[6,7,8,9,0]])\n",
    "type(n2d)\n",
    "n2d"
   ]
  },
  {
   "cell_type": "code",
   "execution_count": 4,
   "id": "53df75b1-e8a9-47ae-aadd-ccd148cdf581",
   "metadata": {},
   "outputs": [
    {
     "data": {
      "text/plain": [
       "array([[[1. , 2.3, 3. , 4. ],\n",
       "        [1. , 2. , 3. , 4. ],\n",
       "        [1. , 2. , 3. , 4. ]],\n",
       "\n",
       "       [[1. , 2. , 3. , 4. ],\n",
       "        [1. , 2. , 3. , 4. ],\n",
       "        [1. , 2. , 3. , 4. ]]])"
      ]
     },
     "execution_count": 4,
     "metadata": {},
     "output_type": "execute_result"
    }
   ],
   "source": [
    "n3d = np.array([[[1,2.3,3,4],[1,2,3,4],[1,2,3,4]],[[1,2,3,4],[1,2,3,4],[1,2,3,4]]])\n",
    "type(n3d)\n",
    "n3d"
   ]
  },
  {
   "cell_type": "code",
   "execution_count": 5,
   "id": "ab6ff766-d80b-4931-85b1-935c0d95dbcf",
   "metadata": {},
   "outputs": [],
   "source": [
    "# 1D aarray is called as Vector\n",
    "# 2D array us called as Matrix\n",
    "# 3D arrays is called as "
   ]
  },
  {
   "cell_type": "code",
   "execution_count": 6,
   "id": "c31e7a48-2752-4688-b123-922d5a2b7373",
   "metadata": {},
   "outputs": [
    {
     "name": "stdout",
     "output_type": "stream",
     "text": [
      "(3,)\n",
      "(2, 5)\n",
      "(2, 3, 4)\n",
      "float64\n"
     ]
    }
   ],
   "source": [
    "print(n1d.shape)\n",
    "print(n2d.shape)\n",
    "print(n3d.shape)\n",
    "print(n3d.dtype)"
   ]
  },
  {
   "cell_type": "code",
   "execution_count": 7,
   "id": "82679598-77f8-406d-8e5d-d6b1884a0897",
   "metadata": {},
   "outputs": [
    {
     "name": "stdout",
     "output_type": "stream",
     "text": [
      "1\n",
      "2\n",
      "3\n"
     ]
    }
   ],
   "source": [
    "print(n1d.ndim)\n",
    "print(n2d.ndim)\n",
    "print(n3d.ndim)"
   ]
  },
  {
   "cell_type": "code",
   "execution_count": 8,
   "id": "6c519ce0-7d67-40e0-8893-41d110b2c6ce",
   "metadata": {},
   "outputs": [
    {
     "data": {
      "text/html": [
       "<div>\n",
       "<style scoped>\n",
       "    .dataframe tbody tr th:only-of-type {\n",
       "        vertical-align: middle;\n",
       "    }\n",
       "\n",
       "    .dataframe tbody tr th {\n",
       "        vertical-align: top;\n",
       "    }\n",
       "\n",
       "    .dataframe thead th {\n",
       "        text-align: right;\n",
       "    }\n",
       "</style>\n",
       "<table border=\"1\" class=\"dataframe\">\n",
       "  <thead>\n",
       "    <tr style=\"text-align: right;\">\n",
       "      <th></th>\n",
       "      <th>0</th>\n",
       "      <th>1</th>\n",
       "      <th>2</th>\n",
       "      <th>3</th>\n",
       "      <th>4</th>\n",
       "    </tr>\n",
       "  </thead>\n",
       "  <tbody>\n",
       "    <tr>\n",
       "      <th>0</th>\n",
       "      <td>1</td>\n",
       "      <td>2</td>\n",
       "      <td>3</td>\n",
       "      <td>4</td>\n",
       "      <td>5</td>\n",
       "    </tr>\n",
       "    <tr>\n",
       "      <th>1</th>\n",
       "      <td>6</td>\n",
       "      <td>7</td>\n",
       "      <td>8</td>\n",
       "      <td>9</td>\n",
       "      <td>0</td>\n",
       "    </tr>\n",
       "  </tbody>\n",
       "</table>\n",
       "</div>"
      ],
      "text/plain": [
       "   0  1  2  3  4\n",
       "0  1  2  3  4  5\n",
       "1  6  7  8  9  0"
      ]
     },
     "execution_count": 8,
     "metadata": {},
     "output_type": "execute_result"
    }
   ],
   "source": [
    "df = pd.DataFrame(n2d)\n",
    "df"
   ]
  },
  {
   "cell_type": "code",
   "execution_count": 9,
   "id": "6c72c3e2-bf3b-43ed-8b41-56ddca113a14",
   "metadata": {},
   "outputs": [],
   "source": [
    "#c reating array\n",
    "# ones\n",
    "ones = np.ones((3,3))\n",
    "# Zero\n",
    "zeros = np.zeros((3,4))\n",
    "# random\n",
    "rand = np.arange(0,10,2)"
   ]
  },
  {
   "cell_type": "code",
   "execution_count": 10,
   "id": "3ffad8df-894e-4e72-bb92-0239ad1ef949",
   "metadata": {},
   "outputs": [
    {
     "data": {
      "text/plain": [
       "array([[2, 2, 4, 1],\n",
       "       [7, 2, 1, 2],\n",
       "       [0, 7, 4, 4]])"
      ]
     },
     "execution_count": 10,
     "metadata": {},
     "output_type": "execute_result"
    }
   ],
   "source": [
    "dff = np.random.randint(0,10, size = (3,4))\n",
    "dff"
   ]
  },
  {
   "cell_type": "code",
   "execution_count": 11,
   "id": "914afadb-47fa-4419-8f92-296b92b87b94",
   "metadata": {},
   "outputs": [],
   "source": [
    "# random seed, fix entries\n",
    "np.random.seed(seed = 0)"
   ]
  },
  {
   "cell_type": "code",
   "execution_count": 12,
   "id": "11724916-a486-49c4-bef3-62085b43d3ce",
   "metadata": {},
   "outputs": [
    {
     "data": {
      "text/plain": [
       "array([[0.5488135 , 0.71518937, 0.60276338, 0.54488318, 0.4236548 ],\n",
       "       [0.64589411, 0.43758721, 0.891773  , 0.96366276, 0.38344152],\n",
       "       [0.79172504, 0.52889492, 0.56804456, 0.92559664, 0.07103606]])"
      ]
     },
     "execution_count": 12,
     "metadata": {},
     "output_type": "execute_result"
    }
   ],
   "source": [
    "npa = np.random.rand(3,5) # auto range 0 - 1\n",
    "npa"
   ]
  },
  {
   "cell_type": "code",
   "execution_count": 13,
   "id": "82dff3bd-65f6-43dc-bb54-ba5ac074bec7",
   "metadata": {},
   "outputs": [
    {
     "data": {
      "text/plain": [
       "np.float64(9.042960048565472)"
      ]
     },
     "execution_count": 13,
     "metadata": {},
     "output_type": "execute_result"
    }
   ],
   "source": [
    "# random seed\n",
    "npa.sum()"
   ]
  },
  {
   "cell_type": "code",
   "execution_count": 14,
   "id": "9810cb22-dd98-48fd-8073-80c2dcf63715",
   "metadata": {},
   "outputs": [
    {
     "data": {
      "text/plain": [
       "array([[[1. , 2.3, 3. , 4. ],\n",
       "        [1. , 2. , 3. , 4. ],\n",
       "        [1. , 2. , 3. , 4. ]],\n",
       "\n",
       "       [[1. , 2. , 3. , 4. ],\n",
       "        [1. , 2. , 3. , 4. ],\n",
       "        [1. , 2. , 3. , 4. ]]])"
      ]
     },
     "execution_count": 14,
     "metadata": {},
     "output_type": "execute_result"
    }
   ],
   "source": [
    "n3d"
   ]
  },
  {
   "cell_type": "code",
   "execution_count": 15,
   "id": "3f1b3dc8-c388-43b7-885e-0cb4cb41fbd3",
   "metadata": {},
   "outputs": [
    {
     "data": {
      "text/plain": [
       "array([[[1. , 2.3, 3. , 4. ]],\n",
       "\n",
       "       [[1. , 2. , 3. , 4. ]]])"
      ]
     },
     "execution_count": 15,
     "metadata": {},
     "output_type": "execute_result"
    }
   ],
   "source": [
    "n3d[:2,:1,:4] # 3d arrays [sets,row,columns]"
   ]
  },
  {
   "cell_type": "code",
   "execution_count": 16,
   "id": "f7562a55-b1cf-4ddf-a19f-b104019f9a6a",
   "metadata": {},
   "outputs": [
    {
     "data": {
      "text/plain": [
       "array([[[[9, 4, 3, 0],\n",
       "         [3, 5, 0, 2],\n",
       "         [3, 8, 1, 3]]]])"
      ]
     },
     "execution_count": 16,
     "metadata": {},
     "output_type": "execute_result"
    }
   ],
   "source": [
    "np_a = np.random.randint(10,size=(2,3,3,4)) # [dimensions, rows,columns]\n",
    "np_a[:1,:1,:4,:4] # sets, furtherarray, rows, columns"
   ]
  },
  {
   "cell_type": "markdown",
   "id": "e85a9921-d9dd-4d40-964e-a66f54b47c36",
   "metadata": {},
   "source": [
    "# Manipulation"
   ]
  },
  {
   "cell_type": "code",
   "execution_count": 17,
   "id": "20773740-e781-41a2-b547-a6b5fbaf45a4",
   "metadata": {},
   "outputs": [
    {
     "data": {
      "text/plain": [
       "array([1, 2, 3])"
      ]
     },
     "execution_count": 17,
     "metadata": {},
     "output_type": "execute_result"
    }
   ],
   "source": [
    "# array manipulation\n",
    "n1d\n"
   ]
  },
  {
   "cell_type": "code",
   "execution_count": 18,
   "id": "6ee14910-542d-417f-a059-5d01b9fd580f",
   "metadata": {},
   "outputs": [
    {
     "data": {
      "text/plain": [
       "array([[1., 1., 1.],\n",
       "       [1., 1., 1.],\n",
       "       [1., 1., 1.]])"
      ]
     },
     "execution_count": 18,
     "metadata": {},
     "output_type": "execute_result"
    }
   ],
   "source": [
    "ones"
   ]
  },
  {
   "cell_type": "code",
   "execution_count": 19,
   "id": "5f485ef5-40a0-4acf-9853-b57f735b479d",
   "metadata": {},
   "outputs": [
    {
     "data": {
      "text/plain": [
       "array([[2., 3., 4.],\n",
       "       [2., 3., 4.],\n",
       "       [2., 3., 4.]])"
      ]
     },
     "execution_count": 19,
     "metadata": {},
     "output_type": "execute_result"
    }
   ],
   "source": [
    "# add array into array 1D to 2D\n",
    "n1d+ones\n",
    "# how they are maps , it uses broadcasting, not by loops"
   ]
  },
  {
   "cell_type": "code",
   "execution_count": 20,
   "id": "644c7834-bd94-44ae-8d21-9a67474cf32c",
   "metadata": {},
   "outputs": [
    {
     "data": {
      "text/plain": [
       "array([[[ 1. ,  4.6,  9. , 16. ],\n",
       "        [ 6. , 14. , 24. , 36. ]],\n",
       "\n",
       "       [[ 1. ,  4. ,  9. , 16. ],\n",
       "        [ 6. , 14. , 24. , 36. ]]])"
      ]
     },
     "execution_count": 20,
     "metadata": {},
     "output_type": "execute_result"
    }
   ],
   "source": [
    "n2d[:2,:4]*n3d[:2,:2]"
   ]
  },
  {
   "cell_type": "code",
   "execution_count": 21,
   "id": "ff37bec4-3b79-4b7f-82a2-578cae948a02",
   "metadata": {},
   "outputs": [
    {
     "data": {
      "text/plain": [
       "array([1, 4, 9])"
      ]
     },
     "execution_count": 21,
     "metadata": {},
     "output_type": "execute_result"
    }
   ],
   "source": [
    "n1d**2"
   ]
  },
  {
   "cell_type": "code",
   "execution_count": 22,
   "id": "f0807924-72fe-4c91-b3cc-9bf7767fcd28",
   "metadata": {},
   "outputs": [
    {
     "data": {
      "text/plain": [
       "array([[[1., 0., 1., 1.],\n",
       "        [6., 3., 2., 2.]],\n",
       "\n",
       "       [[1., 1., 1., 1.],\n",
       "        [6., 3., 2., 2.]]])"
      ]
     },
     "execution_count": 22,
     "metadata": {},
     "output_type": "execute_result"
    }
   ],
   "source": [
    "n2d[:2,:4]//n3d[:2,:2]"
   ]
  },
  {
   "cell_type": "code",
   "execution_count": 23,
   "id": "6f5b6302-77be-49d3-b4ce-0e5d281c353b",
   "metadata": {},
   "outputs": [
    {
     "data": {
      "text/plain": [
       "array([[0, 0, 0, 0, 0],\n",
       "       [0, 0, 0, 0, 0]])"
      ]
     },
     "execution_count": 23,
     "metadata": {},
     "output_type": "execute_result"
    }
   ],
   "source": [
    "np.square(n2d)\n",
    "n2d%1"
   ]
  },
  {
   "cell_type": "markdown",
   "id": "5deeb86b-d84e-42f2-a9de-4ca25498ce68",
   "metadata": {},
   "source": [
    "# Aggregation"
   ]
  },
  {
   "cell_type": "code",
   "execution_count": 24,
   "id": "fcb2c7b9-d453-4986-9a58-2ea31f918c36",
   "metadata": {},
   "outputs": [
    {
     "name": "stdout",
     "output_type": "stream",
     "text": [
      "6\n"
     ]
    }
   ],
   "source": [
    "print(sum(n1d))"
   ]
  },
  {
   "cell_type": "code",
   "execution_count": 25,
   "id": "86c4662e-51d4-4e8f-bee8-da67d8195c50",
   "metadata": {},
   "outputs": [
    {
     "data": {
      "text/plain": [
       "array([0.01357164, 0.6228461 , 0.67365963, ..., 0.27720631, 0.92986366,\n",
       "       0.87019482])"
      ]
     },
     "execution_count": 25,
     "metadata": {},
     "output_type": "execute_result"
    }
   ],
   "source": [
    "l_array = np.random.random(10000)\n",
    "l_array"
   ]
  },
  {
   "cell_type": "code",
   "execution_count": 26,
   "id": "09467f25-9c26-4ce5-9f1f-7fdc2e26074c",
   "metadata": {},
   "outputs": [
    {
     "name": "stdout",
     "output_type": "stream",
     "text": [
      "687 μs ± 16.1 μs per loop (mean ± std. dev. of 7 runs, 1,000 loops each)\n",
      "5.24 μs ± 373 ns per loop (mean ± std. dev. of 7 runs, 100,000 loops each)\n"
     ]
    }
   ],
   "source": [
    "%timeit sum(l_array)\n",
    "%timeit np.sum(l_array)"
   ]
  },
  {
   "cell_type": "code",
   "execution_count": 27,
   "id": "a0a152b2-0b67-4f18-b25d-5edc47441330",
   "metadata": {},
   "outputs": [
    {
     "data": {
      "text/plain": [
       "np.int64(3)"
      ]
     },
     "execution_count": 27,
     "metadata": {},
     "output_type": "execute_result"
    }
   ],
   "source": [
    "np.max(n1d)"
   ]
  },
  {
   "cell_type": "code",
   "execution_count": 28,
   "id": "7c3edc03-c6d0-497b-a272-765894325869",
   "metadata": {},
   "outputs": [
    {
     "data": {
      "text/plain": [
       "np.int64(0)"
      ]
     },
     "execution_count": 28,
     "metadata": {},
     "output_type": "execute_result"
    }
   ],
   "source": [
    "np.min(n2d)"
   ]
  },
  {
   "cell_type": "markdown",
   "id": "ca72688c-292d-459f-81ef-30adc81ff45b",
   "metadata": {},
   "source": [
    "# Statistical"
   ]
  },
  {
   "cell_type": "code",
   "execution_count": 29,
   "id": "28b833db-c7f3-4e56-b54d-2515d6cb0a87",
   "metadata": {},
   "outputs": [
    {
     "name": "stdout",
     "output_type": "stream",
     "text": [
      "2.0\n",
      "0.6666666666666666\n",
      "0.816496580927726\n",
      "0.816496580927726\n"
     ]
    }
   ],
   "source": [
    "# Mean\n",
    "# + average of values\n",
    "print(np.mean(n1d))\n",
    "# variance\n",
    "print(np.var(n1d))\n",
    "# std\n",
    "print(np.sqrt(np.var(n1d)))\n",
    "print(np.std(n1d))"
   ]
  },
  {
   "cell_type": "markdown",
   "id": "bf611281-8a44-4723-9e52-e7b653ab03ce",
   "metadata": {},
   "source": [
    "# Matrix product Cross and Dot"
   ]
  },
  {
   "cell_type": "code",
   "execution_count": 30,
   "id": "d7d28a24-c581-4630-abe3-0f6ce142069a",
   "metadata": {},
   "outputs": [],
   "source": [
    "np.random.seed(seed = True)\n",
    "mat_1 = np.random.randint(10, size= (4,3))\n",
    "mat_2 = np.random.randint(10, size= (4,3))"
   ]
  },
  {
   "cell_type": "code",
   "execution_count": 31,
   "id": "eb3a0ce7-740e-4298-ba3e-d2377aa9795d",
   "metadata": {},
   "outputs": [
    {
     "data": {
      "text/plain": [
       "array([[5, 8, 9],\n",
       "       [5, 0, 0],\n",
       "       [1, 7, 6],\n",
       "       [9, 2, 4]])"
      ]
     },
     "execution_count": 31,
     "metadata": {},
     "output_type": "execute_result"
    }
   ],
   "source": [
    "mat_1"
   ]
  },
  {
   "cell_type": "code",
   "execution_count": 32,
   "id": "8dffd86d-69b0-4dfa-883e-a799d054d8e8",
   "metadata": {},
   "outputs": [
    {
     "data": {
      "text/plain": [
       "array([[5, 2, 4],\n",
       "       [2, 4, 7],\n",
       "       [7, 9, 1],\n",
       "       [7, 0, 6]])"
      ]
     },
     "execution_count": 32,
     "metadata": {},
     "output_type": "execute_result"
    }
   ],
   "source": [
    "mat_2"
   ]
  },
  {
   "cell_type": "code",
   "execution_count": 33,
   "id": "dcb9ff99-8061-401e-a91d-d1476debf978",
   "metadata": {},
   "outputs": [
    {
     "data": {
      "text/plain": [
       "array([[25, 16, 36],\n",
       "       [10,  0,  0],\n",
       "       [ 7, 63,  6],\n",
       "       [63,  0, 24]])"
      ]
     },
     "execution_count": 33,
     "metadata": {},
     "output_type": "execute_result"
    }
   ],
   "source": [
    "# Element wise multiplication\n",
    "mat_1*mat_2"
   ]
  },
  {
   "cell_type": "code",
   "execution_count": 34,
   "id": "07fb1ce6-b7bf-4f0b-aef9-28d17c62b2cc",
   "metadata": {},
   "outputs": [
    {
     "data": {
      "text/plain": [
       "array([[ 77, 105, 116,  89],\n",
       "       [ 25,  10,  35,  35],\n",
       "       [ 43,  72,  76,  43],\n",
       "       [ 65,  54,  85,  87]])"
      ]
     },
     "execution_count": 34,
     "metadata": {},
     "output_type": "execute_result"
    }
   ],
   "source": [
    "# Dot product, Why Dot product\n",
    "# Should have same dimensions\n",
    "# multiplication is like columns of the first matrixx == to Rows of 2nd Column\n",
    "mat_1.dot(mat_2.T)"
   ]
  },
  {
   "cell_type": "code",
   "execution_count": 35,
   "id": "951a7f4b-a929-458f-8af2-a66e7a3045d6",
   "metadata": {},
   "outputs": [],
   "source": [
    "np.random.seed(seed=True)\n",
    "ma_2 = np.random.randint(20,size=(4,3))\n",
    "ma_3 = np.random.randint(21,size=(4,3))"
   ]
  },
  {
   "cell_type": "code",
   "execution_count": 36,
   "id": "7800b12e-29c0-4b64-942c-01b454830bf8",
   "metadata": {},
   "outputs": [
    {
     "data": {
      "text/plain": [
       "array([[ 5, 11, 12],\n",
       "       [ 8,  9, 11],\n",
       "       [ 5, 15,  0],\n",
       "       [16,  1, 12]])"
      ]
     },
     "execution_count": 36,
     "metadata": {},
     "output_type": "execute_result"
    }
   ],
   "source": [
    "ma_2"
   ]
  },
  {
   "cell_type": "code",
   "execution_count": 41,
   "id": "579f83f2-eea5-40b5-a81e-6b482d583314",
   "metadata": {},
   "outputs": [
    {
     "data": {
      "text/plain": [
       "array([[ 7, 18, 18, 10],\n",
       "       [13, 20, 20, 14],\n",
       "       [ 6,  5, 11, 18]])"
      ]
     },
     "execution_count": 41,
     "metadata": {},
     "output_type": "execute_result"
    }
   ],
   "source": [
    "ma_3.T"
   ]
  },
  {
   "cell_type": "code",
   "execution_count": 38,
   "id": "f0b0626b-0347-4f79-9da2-9e17e05c1b3b",
   "metadata": {},
   "outputs": [
    {
     "data": {
      "text/plain": [
       "array([[ 35, 143,  72],\n",
       "       [144, 180,  55],\n",
       "       [ 90, 300,   0],\n",
       "       [160,  14, 216]])"
      ]
     },
     "execution_count": 38,
     "metadata": {},
     "output_type": "execute_result"
    }
   ],
   "source": [
    "ma_2*ma_3"
   ]
  },
  {
   "cell_type": "code",
   "execution_count": 40,
   "id": "41ddc954-421e-4018-9660-47c5b1b84500",
   "metadata": {},
   "outputs": [
    {
     "data": {
      "text/plain": [
       "array([[250, 370, 442, 420],\n",
       "       [239, 379, 445, 404],\n",
       "       [230, 390, 390, 260],\n",
       "       [197, 368, 440, 390]])"
      ]
     },
     "execution_count": 40,
     "metadata": {},
     "output_type": "execute_result"
    }
   ],
   "source": [
    "ma_2.dot(ma_3.T)"
   ]
  },
  {
   "cell_type": "code",
   "execution_count": 42,
   "id": "48b8c338-1c20-4bb4-b378-bd1de36f4c51",
   "metadata": {},
   "outputs": [
    {
     "data": {
      "text/plain": [
       "((4, 3), (3, 4))"
      ]
     },
     "execution_count": 42,
     "metadata": {},
     "output_type": "execute_result"
    }
   ],
   "source": [
    "ma_2.shape, ma_3.T.shape"
   ]
  },
  {
   "cell_type": "code",
   "execution_count": null,
   "id": "3a2fcd99-f647-4671-b49a-dd6227dd1525",
   "metadata": {},
   "outputs": [],
   "source": []
  }
 ],
 "metadata": {
  "kernelspec": {
   "display_name": "Python 3 (ipykernel)",
   "language": "python",
   "name": "python3"
  },
  "language_info": {
   "codemirror_mode": {
    "name": "ipython",
    "version": 3
   },
   "file_extension": ".py",
   "mimetype": "text/x-python",
   "name": "python",
   "nbconvert_exporter": "python",
   "pygments_lexer": "ipython3",
   "version": "3.10.13"
  }
 },
 "nbformat": 4,
 "nbformat_minor": 5
}
