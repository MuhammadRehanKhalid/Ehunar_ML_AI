{
 "cells": [
  {
   "cell_type": "code",
   "execution_count": 1,
   "id": "9d406ba1-05bd-41b1-9dde-82c71b3ae2f2",
   "metadata": {},
   "outputs": [],
   "source": [
    "import numpy as np\n",
    "# import pandas as pd\n",
    "# import matplotlib.pyplot as plt\n",
    "# import seaborn as sns\n",
    "# import sklearn as sk"
   ]
  },
  {
   "cell_type": "markdown",
   "id": "e9b4eae0-de9e-4a12-be00-2366c547e6c9",
   "metadata": {},
   "source": [
    "# Numpy\n",
    "## Most used functions\n",
    "## Data Types\n",
    "## Creating and viewing arrays \n",
    "## manipulating arrays"
   ]
  },
  {
   "cell_type": "code",
   "execution_count": 2,
   "id": "dbd78413-e739-4619-914b-248228d5bfbf",
   "metadata": {},
   "outputs": [
    {
     "data": {
      "text/plain": [
       "array([1, 2, 3])"
      ]
     },
     "execution_count": 2,
     "metadata": {},
     "output_type": "execute_result"
    }
   ],
   "source": [
    "# Array \n",
    "n1d = np.array([1,2,3])\n",
    "type(n1d)\n",
    "n1d"
   ]
  },
  {
   "cell_type": "code",
   "execution_count": 3,
   "id": "b9fee40f-0f2c-4731-bd50-c131078e4023",
   "metadata": {},
   "outputs": [
    {
     "data": {
      "text/plain": [
       "array([[1, 2, 3, 4, 5],\n",
       "       [6, 7, 8, 9, 0]])"
      ]
     },
     "execution_count": 3,
     "metadata": {},
     "output_type": "execute_result"
    }
   ],
   "source": [
    "n2d = np.array([[1,2,3,4,5],[6,7,8,9,0]])\n",
    "type(n2d)\n",
    "n2d"
   ]
  },
  {
   "cell_type": "code",
   "execution_count": 4,
   "id": "53df75b1-e8a9-47ae-aadd-ccd148cdf581",
   "metadata": {},
   "outputs": [
    {
     "data": {
      "text/plain": [
       "array([[[1, 2, 3, 4],\n",
       "        [1, 2, 3, 4],\n",
       "        [1, 2, 3, 4]],\n",
       "\n",
       "       [[1, 2, 3, 4],\n",
       "        [1, 2, 3, 4],\n",
       "        [1, 2, 3, 4]]])"
      ]
     },
     "execution_count": 4,
     "metadata": {},
     "output_type": "execute_result"
    }
   ],
   "source": [
    "n3d = np.array([[[1,2,3,4],[1,2,3,4],[1,2,3,4]],[[1,2,3,4],[1,2,3,4],[1,2,3,4]]])\n",
    "type(n3d)\n",
    "n3d"
   ]
  },
  {
   "cell_type": "code",
   "execution_count": 5,
   "id": "ab6ff766-d80b-4931-85b1-935c0d95dbcf",
   "metadata": {},
   "outputs": [],
   "source": [
    "# 1D aarray is called as Vector\n",
    "# 2D array us called as Matrix\n",
    "# 3D arrays is called as "
   ]
  },
  {
   "cell_type": "code",
   "execution_count": 6,
   "id": "c31e7a48-2752-4688-b123-922d5a2b7373",
   "metadata": {},
   "outputs": [
    {
     "name": "stdout",
     "output_type": "stream",
     "text": [
      "(3,)\n",
      "(2, 5)\n",
      "(2, 3, 4)\n"
     ]
    }
   ],
   "source": [
    "print(n1d.shape)\n",
    "print(n2d.shape)\n",
    "print(n3d.shape)"
   ]
  },
  {
   "cell_type": "code",
   "execution_count": 7,
   "id": "82679598-77f8-406d-8e5d-d6b1884a0897",
   "metadata": {},
   "outputs": [
    {
     "name": "stdout",
     "output_type": "stream",
     "text": [
      "1\n",
      "2\n",
      "3\n"
     ]
    }
   ],
   "source": [
    "print(n1d.ndim)\n",
    "print(n2d.ndim)\n",
    "print(n3d.ndim)"
   ]
  }
 ],
 "metadata": {
  "kernelspec": {
   "display_name": "Python 3 (ipykernel)",
   "language": "python",
   "name": "python3"
  },
  "language_info": {
   "codemirror_mode": {
    "name": "ipython",
    "version": 3
   },
   "file_extension": ".py",
   "mimetype": "text/x-python",
   "name": "python",
   "nbconvert_exporter": "python",
   "pygments_lexer": "ipython3",
   "version": "3.10.13"
  }
 },
 "nbformat": 4,
 "nbformat_minor": 5
}
