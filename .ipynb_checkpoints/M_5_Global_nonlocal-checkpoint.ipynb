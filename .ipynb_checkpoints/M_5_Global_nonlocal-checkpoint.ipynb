{
 "cells": [
  {
   "cell_type": "code",
   "execution_count": 12,
   "id": "a681f48a-40ba-4547-a054-2a4ee72e7ad2",
   "metadata": {},
   "outputs": [
    {
     "name": "stdout",
     "output_type": "stream",
     "text": [
      "iphone10_in_my home\n"
     ]
    }
   ],
   "source": [
    "# starts with local space# starts with local space\n",
    "phone = 'iphone10_onRoad'\n",
    "\n",
    "def parents_home():\n",
    "    phone = 'iphone10_in_parents home'\n",
    "    def my_home():\n",
    "        phone = 'iphone10_in_my home'\n",
    "        return phone\n",
    "    return my_home()\n",
    "print(parents_home())"
   ]
  },
  {
   "cell_type": "code",
   "execution_count": 13,
   "id": "4aa6fc65-5d89-4b58-a2ea-dd0089350647",
   "metadata": {},
   "outputs": [
    {
     "name": "stdout",
     "output_type": "stream",
     "text": [
      "iphone10_in_my home\n"
     ]
    }
   ],
   "source": [
    "# starts with local space# starts with local space\n",
    "phone = 'iphone10_onRoad'\n",
    "\n",
    "def parents_home():\n",
    "    phone = 'iphone10_in_parents home'\n",
    "    def my_home():\n",
    "        global phone\n",
    "        phone = 'iphone10_in_my home'\n",
    "        return phone\n",
    "    return my_home()\n",
    "print(parents_home())"
   ]
  },
  {
   "cell_type": "code",
   "execution_count": 16,
   "id": "a6134987-9880-441b-ba17-a230cf7404fd",
   "metadata": {},
   "outputs": [
    {
     "data": {
      "text/plain": [
       "5"
      ]
     },
     "execution_count": 16,
     "metadata": {},
     "output_type": "execute_result"
    }
   ],
   "source": [
    "# Qaulities of Good developer\n",
    "# 1. always return same number\n",
    "# 2. No side effects\n",
    "\n",
    "def adder(num):\n",
    "    add_one = num+1\n",
    "    return add_one\n",
    "adder(4)"
   ]
  },
  {
   "cell_type": "code",
   "execution_count": 28,
   "id": "693f0316-58e7-4ea4-8a12-af720c4b90f5",
   "metadata": {},
   "outputs": [
    {
     "data": {
      "text/plain": [
       "[2, 3, 4]"
      ]
     },
     "execution_count": 28,
     "metadata": {},
     "output_type": "execute_result"
    }
   ],
   "source": [
    "# Special function #map\n",
    "li = [1,2,3]\n",
    "def adder(para_li):\n",
    "    new_li = []\n",
    "    for i in para_li:\n",
    "        new_li.append(i+1)\n",
    "    return new_li\n",
    "adder(li)\n",
    "\n",
    "# map function\n",
    "li = [1,2,3]\n",
    "def adder_map(para_li):\n",
    "    return para_li+1\n",
    "list(map(adder_map,li))\n"
   ]
  }
 ],
 "metadata": {
  "kernelspec": {
   "display_name": "Python 3 (ipykernel)",
   "language": "python",
   "name": "python3"
  },
  "language_info": {
   "codemirror_mode": {
    "name": "ipython",
    "version": 3
   },
   "file_extension": ".py",
   "mimetype": "text/x-python",
   "name": "python",
   "nbconvert_exporter": "python",
   "pygments_lexer": "ipython3",
   "version": "3.10.13"
  }
 },
 "nbformat": 4,
 "nbformat_minor": 5
}
