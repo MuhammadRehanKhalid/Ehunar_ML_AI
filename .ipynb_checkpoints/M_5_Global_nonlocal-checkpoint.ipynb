{
 "cells": [
  {
   "cell_type": "code",
   "execution_count": 12,
   "id": "a681f48a-40ba-4547-a054-2a4ee72e7ad2",
   "metadata": {},
   "outputs": [
    {
     "name": "stdout",
     "output_type": "stream",
     "text": [
      "iphone10_in_my home\n"
     ]
    }
   ],
   "source": [
    "# starts with local space# starts with local space\n",
    "phone = 'iphone10_onRoad'\n",
    "\n",
    "def parents_home():\n",
    "    phone = 'iphone10_in_parents home'\n",
    "    def my_home():\n",
    "        phone = 'iphone10_in_my home'\n",
    "        return phone\n",
    "    return my_home()\n",
    "print(parents_home())"
   ]
  },
  {
   "cell_type": "code",
   "execution_count": 13,
   "id": "4aa6fc65-5d89-4b58-a2ea-dd0089350647",
   "metadata": {},
   "outputs": [
    {
     "name": "stdout",
     "output_type": "stream",
     "text": [
      "iphone10_in_my home\n"
     ]
    }
   ],
   "source": [
    "# starts with local space# starts with local space\n",
    "phone = 'iphone10_onRoad'\n",
    "\n",
    "def parents_home():\n",
    "    phone = 'iphone10_in_parents home'\n",
    "    def my_home():\n",
    "        global phone\n",
    "        phone = 'iphone10_in_my home'\n",
    "        return phone\n",
    "    return my_home()\n",
    "print(parents_home())"
   ]
  },
  {
   "cell_type": "code",
   "execution_count": 16,
   "id": "a6134987-9880-441b-ba17-a230cf7404fd",
   "metadata": {},
   "outputs": [
    {
     "data": {
      "text/plain": [
       "5"
      ]
     },
     "execution_count": 16,
     "metadata": {},
     "output_type": "execute_result"
    }
   ],
   "source": [
    "# Qaulities of Good developer\n",
    "# 1. always return same number\n",
    "# 2. No side effects\n",
    "\n",
    "def adder(num):\n",
    "    add_one = num+1\n",
    "    return add_one\n",
    "adder(4)"
   ]
  },
  {
   "cell_type": "code",
   "execution_count": 28,
   "id": "693f0316-58e7-4ea4-8a12-af720c4b90f5",
   "metadata": {},
   "outputs": [
    {
     "data": {
      "text/plain": [
       "[2, 3, 4]"
      ]
     },
     "execution_count": 28,
     "metadata": {},
     "output_type": "execute_result"
    }
   ],
   "source": [
    "# Special function map\n",
    "li = [1,2,3]\n",
    "def adder(para_li):\n",
    "    new_li = []\n",
    "    for i in para_li:\n",
    "        new_li.append(i+1)\n",
    "    return new_li\n",
    "adder(li)\n",
    "\n",
    "# map function\n",
    "li = [1,2,3]\n",
    "def adder_map(para_li):\n",
    "    return para_li+1\n",
    "list(map(adder_map,li))\n"
   ]
  },
  {
   "cell_type": "code",
   "execution_count": 31,
   "id": "0b67b36e-deb3-404b-b028-bc63edf897c2",
   "metadata": {},
   "outputs": [
    {
     "name": "stdout",
     "output_type": "stream",
     "text": [
      "[2, 4, 6, 8]\n"
     ]
    }
   ],
   "source": [
    "# special function filter\n",
    "li = [1,2,3,4,5,6,7,8,9]\n",
    "def odd(par_li):\n",
    "    return par_li%2 ==0\n",
    "    print(\"even\")\n",
    "odd(2)\n",
    "\n",
    "def odd(par_li):\n",
    "    return par_li%2 ==0    \n",
    "print(list(filter(odd,li)))"
   ]
  },
  {
   "cell_type": "code",
   "execution_count": 36,
   "id": "24acfbc5-64ec-4623-8c7d-b0e22fe2b225",
   "metadata": {},
   "outputs": [
    {
     "name": "stdout",
     "output_type": "stream",
     "text": [
      "['Sally', 'John', 'bradpitt', 'Mohsin', 'Ioon']\n"
     ]
    }
   ],
   "source": [
    "name = ['Sally','John','Cena','bradpitt','Mohsin','Ioon']\n",
    "\n",
    "def name_fi(para_name):\n",
    "    if para_name != 'Cena':\n",
    "        return name\n",
    "print(list(filter(name_fi, name)))"
   ]
  },
  {
   "cell_type": "code",
   "execution_count": 2,
   "id": "4b69284a-80f0-4ad1-b117-852ed211bdcb",
   "metadata": {},
   "outputs": [
    {
     "name": "stdout",
     "output_type": "stream",
     "text": [
      "[(1, 3), (2, 4)]\n",
      "[('Shahrukh', 'Khan', 'shahrukh@gmail.com'), ('Anglina', 'julie', 'anglina@gmail.com')]\n"
     ]
    }
   ],
   "source": [
    "# special function zip\n",
    "li1 = [1,2]\n",
    "li2 = [3,4]\n",
    "\n",
    "print(list(zip(li1,li2)))\n",
    "\n",
    "first_name = ['Shahrukh','Anglina']\n",
    "last_name = ['Khan','julie']\n",
    "email = ['shahrukh@gmail.com','anglina@gmail.com']\n",
    "\n",
    "print(list(zip(first_name, last_name, email)))"
   ]
  },
  {
   "cell_type": "code",
   "execution_count": 12,
   "id": "a16477a1-1d36-44ad-aa8a-81918b9ca1a6",
   "metadata": {},
   "outputs": [
    {
     "name": "stdout",
     "output_type": "stream",
     "text": [
      "0 1\n",
      "1 2\n",
      "3 3\n",
      "6 4\n",
      "10 5\n",
      "15 6\n",
      "21 7\n",
      "28 8\n",
      "36 9\n",
      "45 10\n",
      "55\n"
     ]
    }
   ],
   "source": [
    "# Special function reduce ()\n",
    "from functools import reduce\n",
    "rain_w = [1,2,3,4,5,6,7,8,9,10]\n",
    "def collect(bucket,water):\n",
    "    print(bucket, water)\n",
    "    return bucket+water\n",
    "print(reduce(collect,rain_w,0))"
   ]
  }
 ],
 "metadata": {
  "kernelspec": {
   "display_name": "Python 3 (ipykernel)",
   "language": "python",
   "name": "python3"
  },
  "language_info": {
   "codemirror_mode": {
    "name": "ipython",
    "version": 3
   },
   "file_extension": ".py",
   "mimetype": "text/x-python",
   "name": "python",
   "nbconvert_exporter": "python",
   "pygments_lexer": "ipython3",
   "version": "3.10.13"
  }
 },
 "nbformat": 4,
 "nbformat_minor": 5
}
