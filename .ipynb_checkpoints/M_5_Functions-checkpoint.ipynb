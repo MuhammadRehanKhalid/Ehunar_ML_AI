{
 "cells": [
  {
   "cell_type": "markdown",
   "id": "33e48669-df68-43aa-949f-0981abe827b0",
   "metadata": {},
   "source": [
    "# Functions"
   ]
  },
  {
   "cell_type": "markdown",
   "id": "55ff852d-cbab-4ed1-b68f-aa05f70ab5a3",
   "metadata": {},
   "source": [
    "## Why need function\n",
    "+ Code is wrapped and easy to call\n",
    "+ Departmentalized things\n",
    "+ DRT (Don't repeat yourself)"
   ]
  },
  {
   "cell_type": "code",
   "execution_count": null,
   "id": "ef5e419d-30cc-49b5-b716-c89f9e118483",
   "metadata": {},
   "outputs": [],
   "source": [
    "def fun_name():\n",
    "    # Draw a shape\n",
    "    canva = 10\n",
    "    inn_canva = canva-3\n",
    "    print('X' * canva)\n",
    "    for i in range(canva):\n",
    "        print('X',' '*inn_canva+'X')\n",
    "    print('X' * canva)\n",
    "fun_name()\n",
    "fun_name()"
   ]
  },
  {
   "cell_type": "code",
   "execution_count": 3,
   "id": "b83ca833-8091-4dd3-947d-11a37d226875",
   "metadata": {},
   "outputs": [
    {
     "name": "stdout",
     "output_type": "stream",
     "text": [
      "6\n",
      "47\n",
      "10\n",
      "99\n",
      "16\n"
     ]
    }
   ],
   "source": [
    "def adder(x,y):\n",
    "    print(x+y)\n",
    "adder(2,4)\n",
    "adder(2,45)\n",
    "adder(2,8)\n",
    "adder(95,4)\n",
    "adder(12,4)"
   ]
  }
 ],
 "metadata": {
  "kernelspec": {
   "display_name": "Python 3 (ipykernel)",
   "language": "python",
   "name": "python3"
  },
  "language_info": {
   "codemirror_mode": {
    "name": "ipython",
    "version": 3
   },
   "file_extension": ".py",
   "mimetype": "text/x-python",
   "name": "python",
   "nbconvert_exporter": "python",
   "pygments_lexer": "ipython3",
   "version": "3.10.13"
  }
 },
 "nbformat": 4,
 "nbformat_minor": 5
}
