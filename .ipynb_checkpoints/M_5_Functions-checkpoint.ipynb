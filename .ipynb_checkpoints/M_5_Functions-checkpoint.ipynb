{
 "cells": [
  {
   "cell_type": "markdown",
   "id": "33e48669-df68-43aa-949f-0981abe827b0",
   "metadata": {},
   "source": [
    "# Functions"
   ]
  },
  {
   "cell_type": "markdown",
   "id": "55ff852d-cbab-4ed1-b68f-aa05f70ab5a3",
   "metadata": {},
   "source": [
    "## Why need function\n",
    "+ Code is wrapped and easy to call\n",
    "+ Departmentalized things\n",
    "+ DRT (Don't repeat yourself)"
   ]
  },
  {
   "cell_type": "code",
   "execution_count": null,
   "id": "ef5e419d-30cc-49b5-b716-c89f9e118483",
   "metadata": {},
   "outputs": [],
   "source": [
    "def fun_name():\n",
    "    # Draw a shape\n",
    "    canva = 10\n",
    "    inn_canva = canva-3\n",
    "    print('X' * canva)\n",
    "    for i in range(canva):\n",
    "        print('X',' '*inn_canva+'X')\n",
    "    print('X' * canva)\n",
    "fun_name()\n",
    "fun_name()"
   ]
  },
  {
   "cell_type": "code",
   "execution_count": null,
   "id": "b83ca833-8091-4dd3-947d-11a37d226875",
   "metadata": {},
   "outputs": [],
   "source": [
    "def adder(x,y):\n",
    "    print(x+y)\n",
    "adder(2,4)\n",
    "adder(2,45)\n",
    "adder(2,8)\n",
    "adder(95,4)\n",
    "adder(12,4)"
   ]
  },
  {
   "cell_type": "code",
   "execution_count": null,
   "id": "c78e673b-7cd3-481a-8091-a4f83ed2273e",
   "metadata": {},
   "outputs": [],
   "source": [
    "# positional argument and parameter\n",
    "def reciept(name, amount):\n",
    "    print(f'Hi, {name}, you paid and amount of ${amount}, Thank you')\n",
    "reciept('Muhammad Rehan', 34)"
   ]
  },
  {
   "cell_type": "code",
   "execution_count": null,
   "id": "3e4d80d2-0a3c-49a8-853e-abe6ca2b0915",
   "metadata": {},
   "outputs": [],
   "source": [
    "# Key word argument\n",
    "def reciept(name, amount):\n",
    "    print(f'Hi, {name}, you paid and amount of ${amount}, Thank you')\n",
    "reciept(name = 'Muhammad Rehan', amount = 34)"
   ]
  },
  {
   "cell_type": "code",
   "execution_count": null,
   "id": "d26eaa36-8f14-4cff-91b9-dfabc2b94720",
   "metadata": {},
   "outputs": [],
   "source": [
    "# Return command\n",
    "def reciept(name = 'Rehan', amount = 40):\n",
    "    return amount\n",
    "    print(f'Hi, {name}, you paid{amount}, thank you')\n",
    "reciept()\n",
    "\n",
    "tax = 2\n",
    "x = reciept() - tax\n",
    "print(x)"
   ]
  },
  {
   "cell_type": "code",
   "execution_count": null,
   "id": "49ebd896-173c-4414-99ca-dca71711303e",
   "metadata": {},
   "outputs": [],
   "source": [
    "# Documentation or DOC strings\n",
    "def reciept(name = 'Rehan', amount = 40):\n",
    "    \"\"\"\n",
    "This function takes name and amount of the person and prints\n",
    "the recipto the bill as well as substract 2 dollar tax from the final bill.\n",
    "\"\"\"\n",
    "    print(f'Hi, {name}, you paid{amount}, thank you')\n",
    "    return amount\n",
    "reciept()\n",
    "\n",
    "tax = 2\n",
    "x = reciept() - tax\n",
    "print(x)"
   ]
  },
  {
   "cell_type": "code",
   "execution_count": null,
   "id": "e7cf1bc7-cab0-434d-a8b7-9d4c9833e3bd",
   "metadata": {},
   "outputs": [],
   "source": [
    "help(reciept)"
   ]
  },
  {
   "cell_type": "code",
   "execution_count": null,
   "id": "dad0b71e-7621-43c6-b54e-3377641b8222",
   "metadata": {},
   "outputs": [],
   "source": [
    "def __even__(num):\n",
    "    if num%2==0:\n",
    "        print(\"this id even\")\n",
    "        return True\n",
    "    elif num%2!=0:\n",
    "        print('this is odd')\n",
    "        return False\n",
    "    else:\n",
    "        print('Please enter correct number')\n",
    "__even__(13)"
   ]
  },
  {
   "cell_type": "code",
   "execution_count": null,
   "id": "a128617f-30c6-4834-b2e3-4b29ffabb661",
   "metadata": {},
   "outputs": [],
   "source": [
    "#compact code\n",
    "def __even__(num):\n",
    "    return num%2==0\n",
    "    print(\"Even\")\n",
    "__even__(5)"
   ]
  },
  {
   "cell_type": "code",
   "execution_count": null,
   "id": "6763e345-5b67-46e2-9e23-5f03ada9a5e1",
   "metadata": {},
   "outputs": [],
   "source": [
    "# arguments and keyarguments\n",
    "# multiple arguments\n",
    "def adder(*args):\n",
    "    return sum(args)\n",
    "adder(12,23,23,23,435345,34534,2)\n",
    "#-------------------------------------#\n",
    "# kwargs\n",
    "def adder(*args, **kwargs):\n",
    "    print(args)\n",
    "    print(kwargs)\n",
    "    total = 0\n",
    "    for i in kwargs.values():\n",
    "        total += i\n",
    "    return sum(args)+ total\n",
    "adder(1,3,price=10, tax=2, recovery = -5)"
   ]
  },
  {
   "cell_type": "code",
   "execution_count": null,
   "id": "d7589fcb-4de6-4077-ad01-5ade4dd082c6",
   "metadata": {},
   "outputs": [],
   "source": [
    "# Exercise\n",
    "pharase = 'a qUick BroWn Fox JuMps Over the LaZy Dog'\n",
    "{'Upp_Ca':0, 'low_ca':0}"
   ]
  }
 ],
 "metadata": {
  "kernelspec": {
   "display_name": "Python 3 (ipykernel)",
   "language": "python",
   "name": "python3"
  },
  "language_info": {
   "codemirror_mode": {
    "name": "ipython",
    "version": 3
   },
   "file_extension": ".py",
   "mimetype": "text/x-python",
   "name": "python",
   "nbconvert_exporter": "python",
   "pygments_lexer": "ipython3",
   "version": "3.10.13"
  }
 },
 "nbformat": 4,
 "nbformat_minor": 5
}
