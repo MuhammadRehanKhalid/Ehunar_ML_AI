{
 "cells": [
  {
   "cell_type": "code",
   "execution_count": 1,
   "id": "9d406ba1-05bd-41b1-9dde-82c71b3ae2f2",
   "metadata": {},
   "outputs": [],
   "source": [
    "import numpy as np\n",
    "import pandas as pd\n",
    "import random as rd\n",
    "# import matplotlib.pyplot as plt\n",
    "# import seaborn as sns\n",
    "# import sklearn as sk"
   ]
  },
  {
   "cell_type": "markdown",
   "id": "e9b4eae0-de9e-4a12-be00-2366c547e6c9",
   "metadata": {},
   "source": [
    "# Numpy\n",
    "## Most used functions\n",
    "## Data Types\n",
    "## Creating and viewing arrays \n",
    "## manipulating arrays"
   ]
  },
  {
   "cell_type": "code",
   "execution_count": 2,
   "id": "dbd78413-e739-4619-914b-248228d5bfbf",
   "metadata": {},
   "outputs": [
    {
     "data": {
      "text/plain": [
       "array([1, 2, 3])"
      ]
     },
     "execution_count": 2,
     "metadata": {},
     "output_type": "execute_result"
    }
   ],
   "source": [
    "# Array \n",
    "n1d = np.array([1,2,3])\n",
    "type(n1d)\n",
    "n1d"
   ]
  },
  {
   "cell_type": "code",
   "execution_count": 3,
   "id": "b9fee40f-0f2c-4731-bd50-c131078e4023",
   "metadata": {},
   "outputs": [
    {
     "data": {
      "text/plain": [
       "array([[1, 2, 3, 4, 5],\n",
       "       [6, 7, 8, 9, 0]])"
      ]
     },
     "execution_count": 3,
     "metadata": {},
     "output_type": "execute_result"
    }
   ],
   "source": [
    "n2d = np.array([[1,2,3,4,5],[6,7,8,9,0]])\n",
    "type(n2d)\n",
    "n2d"
   ]
  },
  {
   "cell_type": "code",
   "execution_count": 4,
   "id": "53df75b1-e8a9-47ae-aadd-ccd148cdf581",
   "metadata": {},
   "outputs": [
    {
     "data": {
      "text/plain": [
       "array([[[1. , 2.3, 3. , 4. ],\n",
       "        [1. , 2. , 3. , 4. ],\n",
       "        [1. , 2. , 3. , 4. ]],\n",
       "\n",
       "       [[1. , 2. , 3. , 4. ],\n",
       "        [1. , 2. , 3. , 4. ],\n",
       "        [1. , 2. , 3. , 4. ]]])"
      ]
     },
     "execution_count": 4,
     "metadata": {},
     "output_type": "execute_result"
    }
   ],
   "source": [
    "n3d = np.array([[[1,2.3,3,4],[1,2,3,4],[1,2,3,4]],[[1,2,3,4],[1,2,3,4],[1,2,3,4]]])\n",
    "type(n3d)\n",
    "n3d"
   ]
  },
  {
   "cell_type": "code",
   "execution_count": 5,
   "id": "ab6ff766-d80b-4931-85b1-935c0d95dbcf",
   "metadata": {},
   "outputs": [],
   "source": [
    "# 1D aarray is called as Vector\n",
    "# 2D array us called as Matrix\n",
    "# 3D arrays is called as "
   ]
  },
  {
   "cell_type": "code",
   "execution_count": 6,
   "id": "c31e7a48-2752-4688-b123-922d5a2b7373",
   "metadata": {},
   "outputs": [
    {
     "name": "stdout",
     "output_type": "stream",
     "text": [
      "(3,)\n",
      "(2, 5)\n",
      "(2, 3, 4)\n",
      "float64\n"
     ]
    }
   ],
   "source": [
    "print(n1d.shape)\n",
    "print(n2d.shape)\n",
    "print(n3d.shape)\n",
    "print(n3d.dtype)"
   ]
  },
  {
   "cell_type": "code",
   "execution_count": 7,
   "id": "82679598-77f8-406d-8e5d-d6b1884a0897",
   "metadata": {},
   "outputs": [
    {
     "name": "stdout",
     "output_type": "stream",
     "text": [
      "1\n",
      "2\n",
      "3\n"
     ]
    }
   ],
   "source": [
    "print(n1d.ndim)\n",
    "print(n2d.ndim)\n",
    "print(n3d.ndim)"
   ]
  },
  {
   "cell_type": "code",
   "execution_count": 8,
   "id": "6c519ce0-7d67-40e0-8893-41d110b2c6ce",
   "metadata": {},
   "outputs": [
    {
     "data": {
      "text/html": [
       "<div>\n",
       "<style scoped>\n",
       "    .dataframe tbody tr th:only-of-type {\n",
       "        vertical-align: middle;\n",
       "    }\n",
       "\n",
       "    .dataframe tbody tr th {\n",
       "        vertical-align: top;\n",
       "    }\n",
       "\n",
       "    .dataframe thead th {\n",
       "        text-align: right;\n",
       "    }\n",
       "</style>\n",
       "<table border=\"1\" class=\"dataframe\">\n",
       "  <thead>\n",
       "    <tr style=\"text-align: right;\">\n",
       "      <th></th>\n",
       "      <th>0</th>\n",
       "      <th>1</th>\n",
       "      <th>2</th>\n",
       "      <th>3</th>\n",
       "      <th>4</th>\n",
       "    </tr>\n",
       "  </thead>\n",
       "  <tbody>\n",
       "    <tr>\n",
       "      <th>0</th>\n",
       "      <td>1</td>\n",
       "      <td>2</td>\n",
       "      <td>3</td>\n",
       "      <td>4</td>\n",
       "      <td>5</td>\n",
       "    </tr>\n",
       "    <tr>\n",
       "      <th>1</th>\n",
       "      <td>6</td>\n",
       "      <td>7</td>\n",
       "      <td>8</td>\n",
       "      <td>9</td>\n",
       "      <td>0</td>\n",
       "    </tr>\n",
       "  </tbody>\n",
       "</table>\n",
       "</div>"
      ],
      "text/plain": [
       "   0  1  2  3  4\n",
       "0  1  2  3  4  5\n",
       "1  6  7  8  9  0"
      ]
     },
     "execution_count": 8,
     "metadata": {},
     "output_type": "execute_result"
    }
   ],
   "source": [
    "df = pd.DataFrame(n2d)\n",
    "df"
   ]
  },
  {
   "cell_type": "code",
   "execution_count": 9,
   "id": "6c72c3e2-bf3b-43ed-8b41-56ddca113a14",
   "metadata": {},
   "outputs": [
    {
     "data": {
      "text/plain": [
       "array([0, 2, 4, 6, 8])"
      ]
     },
     "execution_count": 9,
     "metadata": {},
     "output_type": "execute_result"
    }
   ],
   "source": [
    "#c reating array\n",
    "# ones\n",
    "np.ones((3,3))\n",
    "# Zero\n",
    "np.zeros((3,4))\n",
    "# random\n",
    "np.arange(0,10,2)"
   ]
  },
  {
   "cell_type": "code",
   "execution_count": 10,
   "id": "3ffad8df-894e-4e72-bb92-0239ad1ef949",
   "metadata": {},
   "outputs": [
    {
     "data": {
      "text/plain": [
       "array([[4, 4, 7, 4],\n",
       "       [5, 7, 1, 8],\n",
       "       [2, 9, 1, 3]])"
      ]
     },
     "execution_count": 10,
     "metadata": {},
     "output_type": "execute_result"
    }
   ],
   "source": [
    "dff = np.random.randint(0,10, size = (3,4))\n",
    "dff"
   ]
  },
  {
   "cell_type": "code",
   "execution_count": 11,
   "id": "914afadb-47fa-4419-8f92-296b92b87b94",
   "metadata": {},
   "outputs": [],
   "source": [
    "# random seed, fix entries\n",
    "np.random.seed(seed = 0)"
   ]
  },
  {
   "cell_type": "code",
   "execution_count": 12,
   "id": "11724916-a486-49c4-bef3-62085b43d3ce",
   "metadata": {},
   "outputs": [
    {
     "data": {
      "text/plain": [
       "array([[0.5488135 , 0.71518937, 0.60276338, 0.54488318, 0.4236548 ],\n",
       "       [0.64589411, 0.43758721, 0.891773  , 0.96366276, 0.38344152],\n",
       "       [0.79172504, 0.52889492, 0.56804456, 0.92559664, 0.07103606]])"
      ]
     },
     "execution_count": 12,
     "metadata": {},
     "output_type": "execute_result"
    }
   ],
   "source": [
    "npa = np.random.rand(3,5) # auto range 0 - 1\n",
    "npa"
   ]
  },
  {
   "cell_type": "code",
   "execution_count": 13,
   "id": "82dff3bd-65f6-43dc-bb54-ba5ac074bec7",
   "metadata": {},
   "outputs": [
    {
     "data": {
      "text/plain": [
       "np.float64(9.042960048565472)"
      ]
     },
     "execution_count": 13,
     "metadata": {},
     "output_type": "execute_result"
    }
   ],
   "source": [
    "# random seed\n",
    "npa.sum()"
   ]
  },
  {
   "cell_type": "code",
   "execution_count": 14,
   "id": "9810cb22-dd98-48fd-8073-80c2dcf63715",
   "metadata": {},
   "outputs": [
    {
     "data": {
      "text/plain": [
       "array([[[1. , 2.3, 3. , 4. ],\n",
       "        [1. , 2. , 3. , 4. ],\n",
       "        [1. , 2. , 3. , 4. ]],\n",
       "\n",
       "       [[1. , 2. , 3. , 4. ],\n",
       "        [1. , 2. , 3. , 4. ],\n",
       "        [1. , 2. , 3. , 4. ]]])"
      ]
     },
     "execution_count": 14,
     "metadata": {},
     "output_type": "execute_result"
    }
   ],
   "source": [
    "n3d"
   ]
  },
  {
   "cell_type": "code",
   "execution_count": 26,
   "id": "3f1b3dc8-c388-43b7-885e-0cb4cb41fbd3",
   "metadata": {},
   "outputs": [
    {
     "data": {
      "text/plain": [
       "array([[[1. , 2.3, 3. , 4. ]],\n",
       "\n",
       "       [[1. , 2. , 3. , 4. ]]])"
      ]
     },
     "execution_count": 26,
     "metadata": {},
     "output_type": "execute_result"
    }
   ],
   "source": [
    "n3d[:2,:1,:4] # 3d arrays [sets,row,columns]"
   ]
  },
  {
   "cell_type": "code",
   "execution_count": null,
   "id": "f7562a55-b1cf-4ddf-a19f-b104019f9a6a",
   "metadata": {},
   "outputs": [],
   "source": []
  }
 ],
 "metadata": {
  "kernelspec": {
   "display_name": "Python 3 (ipykernel)",
   "language": "python",
   "name": "python3"
  },
  "language_info": {
   "codemirror_mode": {
    "name": "ipython",
    "version": 3
   },
   "file_extension": ".py",
   "mimetype": "text/x-python",
   "name": "python",
   "nbconvert_exporter": "python",
   "pygments_lexer": "ipython3",
   "version": "3.10.13"
  }
 },
 "nbformat": 4,
 "nbformat_minor": 5
}
