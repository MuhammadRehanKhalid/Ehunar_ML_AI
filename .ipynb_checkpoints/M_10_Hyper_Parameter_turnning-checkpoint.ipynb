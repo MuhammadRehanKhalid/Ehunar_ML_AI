{
 "cells": [
  {
   "cell_type": "markdown",
   "id": "436b329b-bcfb-4127-8ad4-b382f51bf5dc",
   "metadata": {},
   "source": [
    "# Hyper Parameter Tunning"
   ]
  },
  {
   "cell_type": "code",
   "execution_count": 2,
   "id": "6486554a-e925-44f5-85fc-75f59f616757",
   "metadata": {},
   "outputs": [],
   "source": [
    "# standerd imports\n",
    "import numpy as np\n",
    "import pandas as pd\n",
    "import matplotlib.pyplot as plt\n",
    "from sklearn.model_selection import train_test_split\n",
    "from sklearn.ensemble import RandomForestRegressor\n",
    "from sklearn.ensemble import RandomForestClassifier\n",
    "from sklearn.preprocessing import OneHotEncoder\n",
    "from sklearn.compose import ColumnTransformer\n",
    "from sklearn.pipeline import Pipeline\n",
    "from sklearn.impute import SimpleImputer\n",
    "from sklearn.compose import ColumnTransformer\n",
    "from sklearn.metrics import accuracy_score\n",
    "from sklearn.linear_model import Ridge\n",
    "from sklearn.svm import LinearSVC\n",
    "from sklearn.metrics import mean_absolute_error\n",
    "from sklearn.model_selection import cross_val_score\n",
    "import pickle as pc\n",
    "%matplotlib inline"
   ]
  },
  {
   "cell_type": "code",
   "execution_count": 3,
   "id": "b9dc3e90-db6f-49c9-bd90-bfa7f20ecc51",
   "metadata": {},
   "outputs": [
    {
     "data": {
      "text/plain": [
       "{'bootstrap': True,\n",
       " 'ccp_alpha': 0.0,\n",
       " 'class_weight': None,\n",
       " 'criterion': 'gini',\n",
       " 'max_depth': None,\n",
       " 'max_features': 'sqrt',\n",
       " 'max_leaf_nodes': None,\n",
       " 'max_samples': None,\n",
       " 'min_impurity_decrease': 0.0,\n",
       " 'min_samples_leaf': 1,\n",
       " 'min_samples_split': 2,\n",
       " 'min_weight_fraction_leaf': 0.0,\n",
       " 'monotonic_cst': None,\n",
       " 'n_estimators': 100,\n",
       " 'n_jobs': None,\n",
       " 'oob_score': False,\n",
       " 'random_state': None,\n",
       " 'verbose': 0,\n",
       " 'warm_start': False}"
      ]
     },
     "execution_count": 3,
     "metadata": {},
     "output_type": "execute_result"
    }
   ],
   "source": [
    "clf = RandomForestClassifier()\n",
    "clf.get_params()"
   ]
  },
  {
   "cell_type": "markdown",
   "id": "4f3498c1-9ad1-426a-9fad-5fc343996acb",
   "metadata": {},
   "source": [
    "## hyper Parameters\n",
    "### 1, Mannually\n",
    "### 2. Randomly with RandomSearchCV\n",
    "### 3. Exhaustively GridSearchCV"
   ]
  },
  {
   "cell_type": "code",
   "execution_count": 4,
   "id": "9e91d36b-ce39-4e9f-ba0e-bca5b7cc4049",
   "metadata": {},
   "outputs": [],
   "source": [
    "# paramertes we are gong to use\n",
    "# max_depth\n",
    "# Max_features\n",
    "# min_samples_split\n",
    "# min_samples_leaf\n",
    "# n_estimators"
   ]
  },
  {
   "cell_type": "markdown",
   "id": "2f0d13e2-38ad-4fcd-b1f3-2355b3c1ef05",
   "metadata": {},
   "source": [
    "# Task_1 Divide Data into Train, test, Validate and predict"
   ]
  },
  {
   "cell_type": "code",
   "execution_count": 9,
   "id": "a58c50bd-1eac-4f6a-9222-7864df533751",
   "metadata": {},
   "outputs": [],
   "source": [
    "# Task_1\n",
    "# Data\n",
    "df = pd.read_csv('heart.csv')\n",
    "# Divide data\n",
    "X = df.drop('output', axis = 1)\n",
    "y = df['output']\n",
    "# Split data\n",
    "train_split = round(.7*len(df))\n",
    "valid_split = round(train_split + .15*len(df))\n",
    "X_train, y_train = X[:train_split], y[:train_split]\n",
    "X_valid, y_valid = X[train_split:valid_split], y[train_split:valid_split]\n",
    "X_test, y_test = X[valid_split:], y[valid_split:]\n"
   ]
  },
  {
   "cell_type": "code",
   "execution_count": 7,
   "id": "2e6c831a-8809-4dcb-9a7b-f01231121a70",
   "metadata": {},
   "outputs": [
    {
     "data": {
      "text/plain": [
       "303"
      ]
     },
     "execution_count": 7,
     "metadata": {},
     "output_type": "execute_result"
    }
   ],
   "source": [
    "len(df)"
   ]
  },
  {
   "cell_type": "code",
   "execution_count": 12,
   "id": "a3cbcf15-cdbc-4fb1-bcf3-7197f998089d",
   "metadata": {},
   "outputs": [
    {
     "data": {
      "text/plain": [
       "(212, 45, 46)"
      ]
     },
     "execution_count": 12,
     "metadata": {},
     "output_type": "execute_result"
    }
   ],
   "source": [
    "len(X_train), len(X_valid), len(X_test)"
   ]
  },
  {
   "cell_type": "code",
   "execution_count": 14,
   "id": "014959a7-d4c1-4b8a-a9ce-5663c5a44c9b",
   "metadata": {},
   "outputs": [
    {
     "data": {
      "text/plain": [
       "array([1, 0, 0, 0, 1, 0, 0, 0, 0, 0, 1, 0, 0, 0, 0, 0, 1, 0, 1, 0, 0, 0,\n",
       "       0, 1, 0, 0, 1, 1, 0, 1, 1, 0, 0, 1, 0, 1, 1, 0, 0, 0, 1, 0, 1, 0,\n",
       "       0])"
      ]
     },
     "execution_count": 14,
     "metadata": {},
     "output_type": "execute_result"
    }
   ],
   "source": [
    "clf = RandomForestClassifier().fit(X_train, y_train)\n",
    "y_predict = clf.predict(X_valid)\n",
    "y_predict\n",
    "# Evaluating Mdodel\n"
   ]
  },
  {
   "cell_type": "code",
   "execution_count": null,
   "id": "3e9b37b0-c25c-4bf8-9d80-233bf2beb541",
   "metadata": {},
   "outputs": [],
   "source": []
  }
 ],
 "metadata": {
  "kernelspec": {
   "display_name": "Python 3 (ipykernel)",
   "language": "python",
   "name": "python3"
  },
  "language_info": {
   "codemirror_mode": {
    "name": "ipython",
    "version": 3
   },
   "file_extension": ".py",
   "mimetype": "text/x-python",
   "name": "python",
   "nbconvert_exporter": "python",
   "pygments_lexer": "ipython3",
   "version": "3.10.13"
  }
 },
 "nbformat": 4,
 "nbformat_minor": 5
}
