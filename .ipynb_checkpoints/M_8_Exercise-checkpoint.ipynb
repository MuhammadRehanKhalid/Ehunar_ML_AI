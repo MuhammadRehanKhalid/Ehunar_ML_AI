{
 "cells": [
  {
   "cell_type": "markdown",
   "id": "6d1d0a69-9977-45f7-ac82-08d5e825056c",
   "metadata": {},
   "source": [
    "# Exercise for Numpy"
   ]
  },
  {
   "cell_type": "code",
   "execution_count": 1,
   "id": "c84a6c40-f635-4b3c-8953-4c27d37eceb9",
   "metadata": {},
   "outputs": [],
   "source": [
    "import numpy as np\n",
    "import pandas as pd\n",
    "import random as rd\n",
    "# import matplotlib.pyplot as plt\n",
    "# import seaborn as sns\n",
    "# import sklearn as sk"
   ]
  },
  {
   "cell_type": "code",
   "execution_count": 2,
   "id": "bac3a2c0-bd65-49ae-8cf0-19989e2b6d69",
   "metadata": {},
   "outputs": [
    {
     "data": {
      "text/plain": [
       "array([[ 5, 11, 12],\n",
       "       [ 8,  9, 11],\n",
       "       [ 5, 15,  0],\n",
       "       [16,  1, 12],\n",
       "       [ 7, 13,  6]])"
      ]
     },
     "execution_count": 2,
     "metadata": {},
     "output_type": "execute_result"
    }
   ],
   "source": [
    "# sale = mon, tue, wed, thur, fri,\n",
    "# Item_1, Item_2, Item_3\n",
    "# sale  = TOTAL SALES\n",
    "np.random.seed(seed = True)\n",
    "item_amount = np.random.randint(20, size = (5,3))\n",
    "item_amount"
   ]
  },
  {
   "cell_type": "code",
   "execution_count": 3,
   "id": "3c1fcaae-d944-4299-9a48-3a85b13fb4b8",
   "metadata": {},
   "outputs": [],
   "source": [
    "item_price = np.array([12,8,11])"
   ]
  },
  {
   "cell_type": "code",
   "execution_count": 4,
   "id": "85ef823b-1829-4b7b-9f53-b9f35f1871d9",
   "metadata": {},
   "outputs": [],
   "source": [
    "item_price_df = pd.DataFrame(item_price.reshape(1,3),\n",
    "                             index =['Item_Price'],\n",
    "                             columns = ['item_1','item_2','item_3'])"
   ]
  },
  {
   "cell_type": "code",
   "execution_count": 28,
   "id": "2c8a78d4-0f0e-4275-9af0-e937efba6e09",
   "metadata": {},
   "outputs": [
    {
     "data": {
      "text/html": [
       "<div>\n",
       "<style scoped>\n",
       "    .dataframe tbody tr th:only-of-type {\n",
       "        vertical-align: middle;\n",
       "    }\n",
       "\n",
       "    .dataframe tbody tr th {\n",
       "        vertical-align: top;\n",
       "    }\n",
       "\n",
       "    .dataframe thead th {\n",
       "        text-align: right;\n",
       "    }\n",
       "</style>\n",
       "<table border=\"1\" class=\"dataframe\">\n",
       "  <thead>\n",
       "    <tr style=\"text-align: right;\">\n",
       "      <th></th>\n",
       "      <th>item_1</th>\n",
       "      <th>item_2</th>\n",
       "      <th>item_3</th>\n",
       "    </tr>\n",
       "  </thead>\n",
       "  <tbody>\n",
       "    <tr>\n",
       "      <th>Item_Price</th>\n",
       "      <td>12</td>\n",
       "      <td>8</td>\n",
       "      <td>11</td>\n",
       "    </tr>\n",
       "  </tbody>\n",
       "</table>\n",
       "</div>"
      ],
      "text/plain": [
       "            item_1  item_2  item_3\n",
       "Item_Price      12       8      11"
      ]
     },
     "execution_count": 28,
     "metadata": {},
     "output_type": "execute_result"
    }
   ],
   "source": [
    "item_price_df"
   ]
  },
  {
   "cell_type": "code",
   "execution_count": 26,
   "id": "3ad8cd5c-a0c3-4063-9052-15f09f74d29e",
   "metadata": {},
   "outputs": [
    {
     "data": {
      "text/plain": [
       "array([280, 289, 180, 332, 254])"
      ]
     },
     "execution_count": 26,
     "metadata": {},
     "output_type": "execute_result"
    }
   ],
   "source": [
    "total_price1 = item_price.dot(item_amount.T)\n",
    "total_price1"
   ]
  },
  {
   "cell_type": "code",
   "execution_count": 29,
   "id": "67e8081f-b8c6-4443-87a1-09acf851fc88",
   "metadata": {},
   "outputs": [
    {
     "data": {
      "text/html": [
       "<div>\n",
       "<style scoped>\n",
       "    .dataframe tbody tr th:only-of-type {\n",
       "        vertical-align: middle;\n",
       "    }\n",
       "\n",
       "    .dataframe tbody tr th {\n",
       "        vertical-align: top;\n",
       "    }\n",
       "\n",
       "    .dataframe thead th {\n",
       "        text-align: right;\n",
       "    }\n",
       "</style>\n",
       "<table border=\"1\" class=\"dataframe\">\n",
       "  <thead>\n",
       "    <tr style=\"text-align: right;\">\n",
       "      <th></th>\n",
       "      <th>Total_Price</th>\n",
       "    </tr>\n",
       "  </thead>\n",
       "  <tbody>\n",
       "    <tr>\n",
       "      <th>Mon</th>\n",
       "      <td>280</td>\n",
       "    </tr>\n",
       "    <tr>\n",
       "      <th>Tue</th>\n",
       "      <td>289</td>\n",
       "    </tr>\n",
       "    <tr>\n",
       "      <th>Wed</th>\n",
       "      <td>180</td>\n",
       "    </tr>\n",
       "    <tr>\n",
       "      <th>Thur</th>\n",
       "      <td>332</td>\n",
       "    </tr>\n",
       "    <tr>\n",
       "      <th>Fri</th>\n",
       "      <td>254</td>\n",
       "    </tr>\n",
       "  </tbody>\n",
       "</table>\n",
       "</div>"
      ],
      "text/plain": [
       "      Total_Price\n",
       "Mon           280\n",
       "Tue           289\n",
       "Wed           180\n",
       "Thur          332\n",
       "Fri           254"
      ]
     },
     "execution_count": 29,
     "metadata": {},
     "output_type": "execute_result"
    }
   ],
   "source": [
    "total_price = pd.DataFrame(total_price1.T, columns = [\"Total_Price\"], index = [\"Mon\", 'Tue', 'Wed', 'Thur', 'Fri'])\n",
    "total_price"
   ]
  },
  {
   "cell_type": "code",
   "execution_count": 30,
   "id": "99689cf2-c2d2-4857-b9ac-3993a7b1ea4d",
   "metadata": {},
   "outputs": [],
   "source": [
    "weekly_sales = pd.DataFrame(item_amount, columns = [\"Item_1\", 'Item_2', 'Item_3'], index = [\"Mon\", 'Tue', 'Wed', 'Thur', 'Fri'])"
   ]
  },
  {
   "cell_type": "code",
   "execution_count": 31,
   "id": "312364f8-123a-402c-8a21-cc431dda6c57",
   "metadata": {},
   "outputs": [
    {
     "data": {
      "text/html": [
       "<div>\n",
       "<style scoped>\n",
       "    .dataframe tbody tr th:only-of-type {\n",
       "        vertical-align: middle;\n",
       "    }\n",
       "\n",
       "    .dataframe tbody tr th {\n",
       "        vertical-align: top;\n",
       "    }\n",
       "\n",
       "    .dataframe thead th {\n",
       "        text-align: right;\n",
       "    }\n",
       "</style>\n",
       "<table border=\"1\" class=\"dataframe\">\n",
       "  <thead>\n",
       "    <tr style=\"text-align: right;\">\n",
       "      <th></th>\n",
       "      <th>Item_1</th>\n",
       "      <th>Item_2</th>\n",
       "      <th>Item_3</th>\n",
       "    </tr>\n",
       "  </thead>\n",
       "  <tbody>\n",
       "    <tr>\n",
       "      <th>Mon</th>\n",
       "      <td>5</td>\n",
       "      <td>11</td>\n",
       "      <td>12</td>\n",
       "    </tr>\n",
       "    <tr>\n",
       "      <th>Tue</th>\n",
       "      <td>8</td>\n",
       "      <td>9</td>\n",
       "      <td>11</td>\n",
       "    </tr>\n",
       "    <tr>\n",
       "      <th>Wed</th>\n",
       "      <td>5</td>\n",
       "      <td>15</td>\n",
       "      <td>0</td>\n",
       "    </tr>\n",
       "    <tr>\n",
       "      <th>Thur</th>\n",
       "      <td>16</td>\n",
       "      <td>1</td>\n",
       "      <td>12</td>\n",
       "    </tr>\n",
       "    <tr>\n",
       "      <th>Fri</th>\n",
       "      <td>7</td>\n",
       "      <td>13</td>\n",
       "      <td>6</td>\n",
       "    </tr>\n",
       "  </tbody>\n",
       "</table>\n",
       "</div>"
      ],
      "text/plain": [
       "      Item_1  Item_2  Item_3\n",
       "Mon        5      11      12\n",
       "Tue        8       9      11\n",
       "Wed        5      15       0\n",
       "Thur      16       1      12\n",
       "Fri        7      13       6"
      ]
     },
     "execution_count": 31,
     "metadata": {},
     "output_type": "execute_result"
    }
   ],
   "source": [
    "weekly_sales"
   ]
  },
  {
   "cell_type": "code",
   "execution_count": 49,
   "id": "1df1a8d3-8d24-4a66-808b-16e94fbf6327",
   "metadata": {},
   "outputs": [],
   "source": [
    "weekly_sales['Total_Price'] = total_price"
   ]
  },
  {
   "cell_type": "code",
   "execution_count": 50,
   "id": "0af57d51-ec47-4882-a6a9-1631981c4e71",
   "metadata": {},
   "outputs": [
    {
     "data": {
      "text/html": [
       "<div>\n",
       "<style scoped>\n",
       "    .dataframe tbody tr th:only-of-type {\n",
       "        vertical-align: middle;\n",
       "    }\n",
       "\n",
       "    .dataframe tbody tr th {\n",
       "        vertical-align: top;\n",
       "    }\n",
       "\n",
       "    .dataframe thead th {\n",
       "        text-align: right;\n",
       "    }\n",
       "</style>\n",
       "<table border=\"1\" class=\"dataframe\">\n",
       "  <thead>\n",
       "    <tr style=\"text-align: right;\">\n",
       "      <th></th>\n",
       "      <th>Item_1</th>\n",
       "      <th>Item_2</th>\n",
       "      <th>Item_3</th>\n",
       "      <th>Total_Price</th>\n",
       "    </tr>\n",
       "  </thead>\n",
       "  <tbody>\n",
       "    <tr>\n",
       "      <th>Mon</th>\n",
       "      <td>5</td>\n",
       "      <td>11</td>\n",
       "      <td>12</td>\n",
       "      <td>280</td>\n",
       "    </tr>\n",
       "    <tr>\n",
       "      <th>Tue</th>\n",
       "      <td>8</td>\n",
       "      <td>9</td>\n",
       "      <td>11</td>\n",
       "      <td>289</td>\n",
       "    </tr>\n",
       "    <tr>\n",
       "      <th>Wed</th>\n",
       "      <td>5</td>\n",
       "      <td>15</td>\n",
       "      <td>0</td>\n",
       "      <td>180</td>\n",
       "    </tr>\n",
       "    <tr>\n",
       "      <th>Thur</th>\n",
       "      <td>16</td>\n",
       "      <td>1</td>\n",
       "      <td>12</td>\n",
       "      <td>332</td>\n",
       "    </tr>\n",
       "    <tr>\n",
       "      <th>Fri</th>\n",
       "      <td>7</td>\n",
       "      <td>13</td>\n",
       "      <td>6</td>\n",
       "      <td>254</td>\n",
       "    </tr>\n",
       "  </tbody>\n",
       "</table>\n",
       "</div>"
      ],
      "text/plain": [
       "      Item_1  Item_2  Item_3  Total_Price\n",
       "Mon        5      11      12          280\n",
       "Tue        8       9      11          289\n",
       "Wed        5      15       0          180\n",
       "Thur      16       1      12          332\n",
       "Fri        7      13       6          254"
      ]
     },
     "execution_count": 50,
     "metadata": {},
     "output_type": "execute_result"
    }
   ],
   "source": [
    "weekly_sales"
   ]
  },
  {
   "cell_type": "code",
   "execution_count": 47,
   "id": "b94ce0e2-79bc-41b8-bc58-d47444ffe370",
   "metadata": {},
   "outputs": [],
   "source": [
    "del weekly_sales[weekly_sales.columns[3]]"
   ]
  },
  {
   "cell_type": "code",
   "execution_count": 48,
   "id": "635f8b0b-5479-4ee6-af39-775dafa0c121",
   "metadata": {},
   "outputs": [
    {
     "data": {
      "text/html": [
       "<div>\n",
       "<style scoped>\n",
       "    .dataframe tbody tr th:only-of-type {\n",
       "        vertical-align: middle;\n",
       "    }\n",
       "\n",
       "    .dataframe tbody tr th {\n",
       "        vertical-align: top;\n",
       "    }\n",
       "\n",
       "    .dataframe thead th {\n",
       "        text-align: right;\n",
       "    }\n",
       "</style>\n",
       "<table border=\"1\" class=\"dataframe\">\n",
       "  <thead>\n",
       "    <tr style=\"text-align: right;\">\n",
       "      <th></th>\n",
       "      <th>Item_1</th>\n",
       "      <th>Item_2</th>\n",
       "      <th>Item_3</th>\n",
       "    </tr>\n",
       "  </thead>\n",
       "  <tbody>\n",
       "    <tr>\n",
       "      <th>Mon</th>\n",
       "      <td>5</td>\n",
       "      <td>11</td>\n",
       "      <td>12</td>\n",
       "    </tr>\n",
       "    <tr>\n",
       "      <th>Tue</th>\n",
       "      <td>8</td>\n",
       "      <td>9</td>\n",
       "      <td>11</td>\n",
       "    </tr>\n",
       "    <tr>\n",
       "      <th>Wed</th>\n",
       "      <td>5</td>\n",
       "      <td>15</td>\n",
       "      <td>0</td>\n",
       "    </tr>\n",
       "    <tr>\n",
       "      <th>Thur</th>\n",
       "      <td>16</td>\n",
       "      <td>1</td>\n",
       "      <td>12</td>\n",
       "    </tr>\n",
       "    <tr>\n",
       "      <th>Fri</th>\n",
       "      <td>7</td>\n",
       "      <td>13</td>\n",
       "      <td>6</td>\n",
       "    </tr>\n",
       "  </tbody>\n",
       "</table>\n",
       "</div>"
      ],
      "text/plain": [
       "      Item_1  Item_2  Item_3\n",
       "Mon        5      11      12\n",
       "Tue        8       9      11\n",
       "Wed        5      15       0\n",
       "Thur      16       1      12\n",
       "Fri        7      13       6"
      ]
     },
     "execution_count": 48,
     "metadata": {},
     "output_type": "execute_result"
    }
   ],
   "source": [
    "weekly_sales"
   ]
  },
  {
   "cell_type": "markdown",
   "id": "c0b77cc2-253c-42f1-ac2c-9afa7f49b3cd",
   "metadata": {},
   "source": [
    "# Comparison Operator"
   ]
  },
  {
   "cell_type": "code",
   "execution_count": 59,
   "id": "98b03eae-105b-48a6-9f82-76e6f2c22219",
   "metadata": {},
   "outputs": [
    {
     "data": {
      "text/plain": [
       "array([[13, 12,  6,  9],\n",
       "       [ 2,  4, 14,  5],\n",
       "       [ 2,  4, 11, 12]])"
      ]
     },
     "execution_count": 59,
     "metadata": {},
     "output_type": "execute_result"
    }
   ],
   "source": [
    "np.random.seed(seed = True)\n",
    "n3d = np.random.randint(15,size = (3,4))\n",
    "type(n3d)\n",
    "n3d\n",
    "n2d = np.random.randint(15,size = (3,4))\n",
    "type(n2d)\n",
    "n2d"
   ]
  },
  {
   "cell_type": "code",
   "execution_count": 60,
   "id": "e9944b4b-942b-4f42-80bf-767db2d95386",
   "metadata": {},
   "outputs": [
    {
     "data": {
      "text/plain": [
       "array([[ True,  True, False,  True],\n",
       "       [False, False,  True,  True],\n",
       "       [ True,  True, False,  True]])"
      ]
     },
     "execution_count": 60,
     "metadata": {},
     "output_type": "execute_result"
    }
   ],
   "source": [
    "n2d>n3d"
   ]
  },
  {
   "cell_type": "code",
   "execution_count": 61,
   "id": "7a7dd89a-5fa9-4900-90f9-7d022717113e",
   "metadata": {},
   "outputs": [
    {
     "data": {
      "text/plain": [
       "array([[False, False,  True, False],\n",
       "       [ True,  True, False, False],\n",
       "       [False, False,  True, False]])"
      ]
     },
     "execution_count": 61,
     "metadata": {},
     "output_type": "execute_result"
    }
   ],
   "source": [
    "n3d>n2d"
   ]
  },
  {
   "cell_type": "code",
   "execution_count": 62,
   "id": "c9ed9331-54d4-462c-b1a1-370081a22ac0",
   "metadata": {},
   "outputs": [
    {
     "data": {
      "text/plain": [
       "array([[ True,  True,  True,  True],\n",
       "       [ True,  True,  True,  True],\n",
       "       [ True,  True,  True,  True]])"
      ]
     },
     "execution_count": 62,
     "metadata": {},
     "output_type": "execute_result"
    }
   ],
   "source": [
    "n3d!=n2d"
   ]
  },
  {
   "cell_type": "code",
   "execution_count": 63,
   "id": "fdb5cefb-6ed2-4f36-9592-ae86556168b5",
   "metadata": {},
   "outputs": [
    {
     "data": {
      "text/plain": [
       "array([[False, False,  True, False],\n",
       "       [ True,  True, False, False],\n",
       "       [False, False,  True, False]])"
      ]
     },
     "execution_count": 63,
     "metadata": {},
     "output_type": "execute_result"
    }
   ],
   "source": [
    "n3d>=n2d"
   ]
  },
  {
   "cell_type": "markdown",
   "id": "64397fe7-bff9-4cd7-895d-77cd41abab4f",
   "metadata": {},
   "source": [
    "# Sorting Arrays"
   ]
  },
  {
   "cell_type": "code",
   "execution_count": 64,
   "id": "d374b976-03ab-4eac-b520-8562bd37a573",
   "metadata": {},
   "outputs": [
    {
     "data": {
      "text/plain": [
       "array([[ 5, 11, 12,  8],\n",
       "       [ 9, 11,  5,  0],\n",
       "       [ 0,  1, 12,  7]])"
      ]
     },
     "execution_count": 64,
     "metadata": {},
     "output_type": "execute_result"
    }
   ],
   "source": [
    "n3d"
   ]
  },
  {
   "cell_type": "code",
   "execution_count": 65,
   "id": "a365f4ae-b1d5-4edc-b008-438d4a234cd8",
   "metadata": {},
   "outputs": [
    {
     "data": {
      "text/plain": [
       "array([[ 5,  8, 11, 12],\n",
       "       [ 0,  5,  9, 11],\n",
       "       [ 0,  1,  7, 12]])"
      ]
     },
     "execution_count": 65,
     "metadata": {},
     "output_type": "execute_result"
    }
   ],
   "source": [
    "np.sort(n3d)"
   ]
  },
  {
   "cell_type": "code",
   "execution_count": 73,
   "id": "c8b9897c-0030-4adf-b264-3dbcb96848bd",
   "metadata": {},
   "outputs": [
    {
     "data": {
      "text/plain": [
       "array([[ 6,  9, 12, 13],\n",
       "       [ 2,  4,  5, 14],\n",
       "       [ 2,  4, 11, 12]])"
      ]
     },
     "execution_count": 73,
     "metadata": {},
     "output_type": "execute_result"
    }
   ],
   "source": [
    "np.sort(n2d, axis=1)"
   ]
  },
  {
   "cell_type": "code",
   "execution_count": 74,
   "id": "8f92fe54-a5f4-4a3f-8624-de2a13f59fdb",
   "metadata": {},
   "outputs": [
    {
     "data": {
      "text/plain": [
       "array([[13, 12,  6,  9],\n",
       "       [ 2,  4, 14,  5],\n",
       "       [ 2,  4, 11, 12]])"
      ]
     },
     "execution_count": 74,
     "metadata": {},
     "output_type": "execute_result"
    }
   ],
   "source": [
    "n2d"
   ]
  },
  {
   "cell_type": "code",
   "execution_count": 76,
   "id": "3670443c-9b75-4dc2-ad07-d8a39e934a00",
   "metadata": {},
   "outputs": [
    {
     "data": {
      "text/plain": [
       "array([[2, 3, 1, 0],\n",
       "       [0, 1, 3, 2],\n",
       "       [0, 1, 2, 3]])"
      ]
     },
     "execution_count": 76,
     "metadata": {},
     "output_type": "execute_result"
    }
   ],
   "source": [
    "# index position not the values for number\n",
    "np.argsort(n2d)"
   ]
  },
  {
   "cell_type": "code",
   "execution_count": 79,
   "id": "741ac4e9-af3c-4d79-86da-9322b4c363ee",
   "metadata": {},
   "outputs": [
    {
     "data": {
      "text/plain": [
       "array([1, 1, 0, 1])"
      ]
     },
     "execution_count": 79,
     "metadata": {},
     "output_type": "execute_result"
    }
   ],
   "source": [
    "np.argmin(n2d, axis = 0)"
   ]
  },
  {
   "cell_type": "code",
   "execution_count": 83,
   "id": "1cc0b1a7-0a7a-4815-b294-a74fe8aeb592",
   "metadata": {},
   "outputs": [
    {
     "data": {
      "text/plain": [
       "array([0, 0, 1, 2])"
      ]
     },
     "execution_count": 83,
     "metadata": {},
     "output_type": "execute_result"
    }
   ],
   "source": [
    "np.argmax(n2d, axis = 0) # axis = 0 => columns, axis = 1 => rows"
   ]
  },
  {
   "cell_type": "markdown",
   "id": "5f78b0dc-1d8a-4e0e-8537-8dc9a2bb8413",
   "metadata": {},
   "source": [
    "# Reading Images"
   ]
  },
  {
   "cell_type": "code",
   "execution_count": null,
   "id": "da586d08-6993-4758-839c-75f8b1fc690d",
   "metadata": {},
   "outputs": [],
   "source": []
  }
 ],
 "metadata": {
  "kernelspec": {
   "display_name": "Python 3 (ipykernel)",
   "language": "python",
   "name": "python3"
  },
  "language_info": {
   "codemirror_mode": {
    "name": "ipython",
    "version": 3
   },
   "file_extension": ".py",
   "mimetype": "text/x-python",
   "name": "python",
   "nbconvert_exporter": "python",
   "pygments_lexer": "ipython3",
   "version": "3.10.13"
  }
 },
 "nbformat": 4,
 "nbformat_minor": 5
}
