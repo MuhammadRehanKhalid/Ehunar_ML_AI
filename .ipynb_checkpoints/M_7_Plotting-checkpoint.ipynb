{
 "cells": [
  {
   "cell_type": "code",
   "execution_count": 1,
   "id": "ac238d11-b04e-4d92-966a-2213cda711d4",
   "metadata": {},
   "outputs": [],
   "source": [
    "import pandas as pd\n",
    "import numpy as np\n",
    "import matplotlib.pyplot as plt\n",
    "import sklearn as sk"
   ]
  },
  {
   "cell_type": "code",
   "execution_count": 18,
   "id": "db9c2a92-7f9e-45ed-a304-702c14f9f10a",
   "metadata": {},
   "outputs": [],
   "source": [
    "df = pd.read_csv('./phones_data.csv')"
   ]
  },
  {
   "cell_type": "markdown",
   "id": "717236ad-9405-457e-af3e-aa50bac448e1",
   "metadata": {},
   "source": [
    "# Plot data"
   ]
  },
  {
   "cell_type": "code",
   "execution_count": 19,
   "id": "69f307c1-1db6-4171-bd72-f69e4aa4a778",
   "metadata": {},
   "outputs": [
    {
     "name": "stdout",
     "output_type": "stream",
     "text": [
      "<class 'pandas.core.frame.DataFrame'>\n",
      "RangeIndex: 1224 entries, 0 to 1223\n",
      "Data columns (total 13 columns):\n",
      " #   Column          Non-Null Count  Dtype  \n",
      "---  ------          --------------  -----  \n",
      " 0   Unnamed: 0      1224 non-null   int64  \n",
      " 1   brand_name      1224 non-null   object \n",
      " 2   model_name      1224 non-null   object \n",
      " 3   os              1027 non-null   object \n",
      " 4   popularity      1224 non-null   int64  \n",
      " 5   best_price      1224 non-null   float64\n",
      " 6   lowest_price    964 non-null    float64\n",
      " 7   highest_price   964 non-null    float64\n",
      " 8   sellers_amount  1224 non-null   int64  \n",
      " 9   screen_size     1222 non-null   float64\n",
      " 10  memory_size     1112 non-null   float64\n",
      " 11  battery_size    1214 non-null   float64\n",
      " 12  release_date    1224 non-null   object \n",
      "dtypes: float64(6), int64(3), object(4)\n",
      "memory usage: 124.4+ KB\n"
     ]
    }
   ],
   "source": [
    "df.info()"
   ]
  },
  {
   "cell_type": "code",
   "execution_count": 31,
   "id": "30cd6b51-35fa-4f1c-8a31-84e1ce6f7119",
   "metadata": {},
   "outputs": [],
   "source": [
    "del df[df.columns[0]]"
   ]
  },
  {
   "cell_type": "code",
   "execution_count": 32,
   "id": "3da411f9-9d9a-47af-a1aa-3ae03bfa1926",
   "metadata": {},
   "outputs": [
    {
     "data": {
      "text/html": [
       "<div>\n",
       "<style scoped>\n",
       "    .dataframe tbody tr th:only-of-type {\n",
       "        vertical-align: middle;\n",
       "    }\n",
       "\n",
       "    .dataframe tbody tr th {\n",
       "        vertical-align: top;\n",
       "    }\n",
       "\n",
       "    .dataframe thead th {\n",
       "        text-align: right;\n",
       "    }\n",
       "</style>\n",
       "<table border=\"1\" class=\"dataframe\">\n",
       "  <thead>\n",
       "    <tr style=\"text-align: right;\">\n",
       "      <th></th>\n",
       "      <th>brand_name</th>\n",
       "      <th>model_name</th>\n",
       "      <th>os</th>\n",
       "      <th>popularity</th>\n",
       "      <th>best_price</th>\n",
       "      <th>lowest_price</th>\n",
       "      <th>highest_price</th>\n",
       "      <th>sellers_amount</th>\n",
       "      <th>screen_size</th>\n",
       "      <th>memory_size</th>\n",
       "      <th>battery_size</th>\n",
       "      <th>release_date</th>\n",
       "    </tr>\n",
       "  </thead>\n",
       "  <tbody>\n",
       "    <tr>\n",
       "      <th>0</th>\n",
       "      <td>ALCATEL</td>\n",
       "      <td>1 1/8GB Bluish Black (5033D-2JALUAA)</td>\n",
       "      <td>Android</td>\n",
       "      <td>422</td>\n",
       "      <td>1690.0</td>\n",
       "      <td>1529.0</td>\n",
       "      <td>1819.0</td>\n",
       "      <td>36</td>\n",
       "      <td>5.00</td>\n",
       "      <td>8.0</td>\n",
       "      <td>2000.0</td>\n",
       "      <td>10-2020</td>\n",
       "    </tr>\n",
       "    <tr>\n",
       "      <th>1</th>\n",
       "      <td>ALCATEL</td>\n",
       "      <td>1 5033D 1/16GB Volcano Black (5033D-2LALUAF)</td>\n",
       "      <td>Android</td>\n",
       "      <td>323</td>\n",
       "      <td>1803.0</td>\n",
       "      <td>1659.0</td>\n",
       "      <td>2489.0</td>\n",
       "      <td>36</td>\n",
       "      <td>5.00</td>\n",
       "      <td>16.0</td>\n",
       "      <td>2000.0</td>\n",
       "      <td>9-2020</td>\n",
       "    </tr>\n",
       "    <tr>\n",
       "      <th>2</th>\n",
       "      <td>ALCATEL</td>\n",
       "      <td>1 5033D 1/16GB Volcano Black (5033D-2LALUAF)</td>\n",
       "      <td>Android</td>\n",
       "      <td>299</td>\n",
       "      <td>1803.0</td>\n",
       "      <td>1659.0</td>\n",
       "      <td>2489.0</td>\n",
       "      <td>36</td>\n",
       "      <td>5.00</td>\n",
       "      <td>16.0</td>\n",
       "      <td>2000.0</td>\n",
       "      <td>9-2020</td>\n",
       "    </tr>\n",
       "    <tr>\n",
       "      <th>3</th>\n",
       "      <td>ALCATEL</td>\n",
       "      <td>1 5033D 1/16GB Volcano Black (5033D-2LALUAF)</td>\n",
       "      <td>Android</td>\n",
       "      <td>287</td>\n",
       "      <td>1803.0</td>\n",
       "      <td>1659.0</td>\n",
       "      <td>2489.0</td>\n",
       "      <td>36</td>\n",
       "      <td>5.00</td>\n",
       "      <td>16.0</td>\n",
       "      <td>2000.0</td>\n",
       "      <td>9-2020</td>\n",
       "    </tr>\n",
       "    <tr>\n",
       "      <th>4</th>\n",
       "      <td>Nokia</td>\n",
       "      <td>1.3 1/16GB Charcoal</td>\n",
       "      <td>Android</td>\n",
       "      <td>1047</td>\n",
       "      <td>1999.0</td>\n",
       "      <td>NaN</td>\n",
       "      <td>NaN</td>\n",
       "      <td>10</td>\n",
       "      <td>5.71</td>\n",
       "      <td>16.0</td>\n",
       "      <td>3000.0</td>\n",
       "      <td>4-2020</td>\n",
       "    </tr>\n",
       "    <tr>\n",
       "      <th>...</th>\n",
       "      <td>...</td>\n",
       "      <td>...</td>\n",
       "      <td>...</td>\n",
       "      <td>...</td>\n",
       "      <td>...</td>\n",
       "      <td>...</td>\n",
       "      <td>...</td>\n",
       "      <td>...</td>\n",
       "      <td>...</td>\n",
       "      <td>...</td>\n",
       "      <td>...</td>\n",
       "      <td>...</td>\n",
       "    </tr>\n",
       "    <tr>\n",
       "      <th>1219</th>\n",
       "      <td>Apple</td>\n",
       "      <td>iPhone XS Max 64GB Gold (MT522)</td>\n",
       "      <td>iOS</td>\n",
       "      <td>1101</td>\n",
       "      <td>22685.0</td>\n",
       "      <td>16018.0</td>\n",
       "      <td>27900.0</td>\n",
       "      <td>61</td>\n",
       "      <td>6.50</td>\n",
       "      <td>64.0</td>\n",
       "      <td>3174.0</td>\n",
       "      <td>9-2018</td>\n",
       "    </tr>\n",
       "    <tr>\n",
       "      <th>1220</th>\n",
       "      <td>Apple</td>\n",
       "      <td>iPhone XS Max Dual Sim 64GB Gold (MT732)</td>\n",
       "      <td>iOS</td>\n",
       "      <td>530</td>\n",
       "      <td>24600.0</td>\n",
       "      <td>21939.0</td>\n",
       "      <td>33720.0</td>\n",
       "      <td>28</td>\n",
       "      <td>6.50</td>\n",
       "      <td>64.0</td>\n",
       "      <td>3174.0</td>\n",
       "      <td>9-2018</td>\n",
       "    </tr>\n",
       "    <tr>\n",
       "      <th>1221</th>\n",
       "      <td>HUAWEI</td>\n",
       "      <td>nova 5T 6/128GB Black (51094MEU)</td>\n",
       "      <td>Android</td>\n",
       "      <td>1174</td>\n",
       "      <td>8804.0</td>\n",
       "      <td>7999.0</td>\n",
       "      <td>9999.0</td>\n",
       "      <td>18</td>\n",
       "      <td>6.26</td>\n",
       "      <td>128.0</td>\n",
       "      <td>3750.0</td>\n",
       "      <td>11-2019</td>\n",
       "    </tr>\n",
       "    <tr>\n",
       "      <th>1222</th>\n",
       "      <td>ZTE</td>\n",
       "      <td>nubia Red Magic 5G 8/128GB Black</td>\n",
       "      <td>Android</td>\n",
       "      <td>752</td>\n",
       "      <td>18755.0</td>\n",
       "      <td>18500.0</td>\n",
       "      <td>19010.0</td>\n",
       "      <td>2</td>\n",
       "      <td>6.65</td>\n",
       "      <td>128.0</td>\n",
       "      <td>4500.0</td>\n",
       "      <td>10-2020</td>\n",
       "    </tr>\n",
       "    <tr>\n",
       "      <th>1223</th>\n",
       "      <td>Sigma mobile</td>\n",
       "      <td>x-style 35 Screen</td>\n",
       "      <td>NaN</td>\n",
       "      <td>952</td>\n",
       "      <td>907.0</td>\n",
       "      <td>785.0</td>\n",
       "      <td>944.0</td>\n",
       "      <td>75</td>\n",
       "      <td>3.50</td>\n",
       "      <td>NaN</td>\n",
       "      <td>1750.0</td>\n",
       "      <td>1-2020</td>\n",
       "    </tr>\n",
       "  </tbody>\n",
       "</table>\n",
       "<p>1224 rows × 12 columns</p>\n",
       "</div>"
      ],
      "text/plain": [
       "        brand_name                                    model_name       os  \\\n",
       "0          ALCATEL          1 1/8GB Bluish Black (5033D-2JALUAA)  Android   \n",
       "1          ALCATEL  1 5033D 1/16GB Volcano Black (5033D-2LALUAF)  Android   \n",
       "2          ALCATEL  1 5033D 1/16GB Volcano Black (5033D-2LALUAF)  Android   \n",
       "3          ALCATEL  1 5033D 1/16GB Volcano Black (5033D-2LALUAF)  Android   \n",
       "4            Nokia                           1.3 1/16GB Charcoal  Android   \n",
       "...            ...                                           ...      ...   \n",
       "1219         Apple               iPhone XS Max 64GB Gold (MT522)      iOS   \n",
       "1220         Apple      iPhone XS Max Dual Sim 64GB Gold (MT732)      iOS   \n",
       "1221        HUAWEI              nova 5T 6/128GB Black (51094MEU)  Android   \n",
       "1222           ZTE              nubia Red Magic 5G 8/128GB Black  Android   \n",
       "1223  Sigma mobile                             x-style 35 Screen      NaN   \n",
       "\n",
       "      popularity  best_price  lowest_price  highest_price  sellers_amount  \\\n",
       "0            422      1690.0        1529.0         1819.0              36   \n",
       "1            323      1803.0        1659.0         2489.0              36   \n",
       "2            299      1803.0        1659.0         2489.0              36   \n",
       "3            287      1803.0        1659.0         2489.0              36   \n",
       "4           1047      1999.0           NaN            NaN              10   \n",
       "...          ...         ...           ...            ...             ...   \n",
       "1219        1101     22685.0       16018.0        27900.0              61   \n",
       "1220         530     24600.0       21939.0        33720.0              28   \n",
       "1221        1174      8804.0        7999.0         9999.0              18   \n",
       "1222         752     18755.0       18500.0        19010.0               2   \n",
       "1223         952       907.0         785.0          944.0              75   \n",
       "\n",
       "      screen_size  memory_size  battery_size release_date  \n",
       "0            5.00          8.0        2000.0      10-2020  \n",
       "1            5.00         16.0        2000.0       9-2020  \n",
       "2            5.00         16.0        2000.0       9-2020  \n",
       "3            5.00         16.0        2000.0       9-2020  \n",
       "4            5.71         16.0        3000.0       4-2020  \n",
       "...           ...          ...           ...          ...  \n",
       "1219         6.50         64.0        3174.0       9-2018  \n",
       "1220         6.50         64.0        3174.0       9-2018  \n",
       "1221         6.26        128.0        3750.0      11-2019  \n",
       "1222         6.65        128.0        4500.0      10-2020  \n",
       "1223         3.50          NaN        1750.0       1-2020  \n",
       "\n",
       "[1224 rows x 12 columns]"
      ]
     },
     "execution_count": 32,
     "metadata": {},
     "output_type": "execute_result"
    }
   ],
   "source": [
    "df"
   ]
  },
  {
   "cell_type": "code",
   "execution_count": 11,
   "id": "14c497dd-e88b-427b-a452-5c07c5128285",
   "metadata": {},
   "outputs": [
    {
     "data": {
      "image/png": "[encoded data removed]",
      "text/plain": [
       "<Figure size 640x480 with 1 Axes>"
      ]
     },
     "metadata": {},
     "output_type": "display_data"
    }
   ],
   "source": [
    "df['fbs'].hist()\n",
    "%matplotlib inline"
   ]
  },
  {
   "cell_type": "code",
   "execution_count": 53,
   "id": "cf51c706-5dcb-4221-a8fb-95f9ed9ce452",
   "metadata": {},
   "outputs": [
    {
     "data": {
      "text/plain": [
       "<Axes: >"
      ]
     },
     "execution_count": 53,
     "metadata": {},
     "output_type": "execute_result"
    },
    {
     "data": {
      "image/png": "[encoded data removed]",
      "text/plain": [
       "<Figure size 640x480 with 1 Axes>"
      ]
     },
     "metadata": {},
     "output_type": "display_data"
    }
   ],
   "source": [
    "df['age'].hist()"
   ]
  },
  {
   "cell_type": "code",
   "execution_count": 54,
   "id": "cbe3b043-a47f-4fcb-ae37-31d8d9a49aab",
   "metadata": {},
   "outputs": [
    {
     "data": {
      "text/plain": [
       "<Axes: >"
      ]
     },
     "execution_count": 54,
     "metadata": {},
     "output_type": "execute_result"
    },
    {
     "data": {
      "image/png": "[encoded data removed]",
      "text/plain": [
       "<Figure size 640x480 with 1 Axes>"
      ]
     },
     "metadata": {},
     "output_type": "display_data"
    }
   ],
   "source": [
    "df['thall'].hist()"
   ]
  },
  {
   "cell_type": "code",
   "execution_count": null,
   "id": "337acbfc-0ded-4f9c-9204-504377f3bb1a",
   "metadata": {},
   "outputs": [],
   "source": [
    "'age', 'sex', 'cp', 'trtbps', 'chol', 'fbs', 'restecg', 'thalachh',\n",
    "       'exng', 'oldpeak', 'slp', 'caa', 'thall', 'output'],\n",
    "      dtype='object')"
   ]
  },
  {
   "cell_type": "code",
   "execution_count": 14,
   "id": "35770b3d-142c-405c-b7de-594b0e3fab87",
   "metadata": {},
   "outputs": [
    {
     "data": {
      "text/plain": [
       "<Axes: >"
      ]
     },
     "execution_count": 14,
     "metadata": {},
     "output_type": "execute_result"
    },
    {
     "data": {
      "image/png": "[encoded data removed]",
      "text/plain": [
       "<Figure size 640x480 with 1 Axes>"
      ]
     },
     "metadata": {},
     "output_type": "display_data"
    }
   ],
   "source": [
    "df['cp'].hist()"
   ]
  },
  {
   "cell_type": "code",
   "execution_count": null,
   "id": "57a7a652-be74-4fe8-ac48-8784abbdb5d1",
   "metadata": {
    "scrolled": true
   },
   "outputs": [],
   "source": [
    "# to remove something from the column\n",
    "df['age'].str.replace('[\\$\\,\\.\\]','').astype(int)"
   ]
  }
 ],
 "metadata": {
  "kernelspec": {
   "display_name": "Python 3 (ipykernel)",
   "language": "python",
   "name": "python3"
  },
  "language_info": {
   "codemirror_mode": {
    "name": "ipython",
    "version": 3
   },
   "file_extension": ".py",
   "mimetype": "text/x-python",
   "name": "python",
   "nbconvert_exporter": "python",
   "pygments_lexer": "ipython3",
   "version": "3.10.13"
  }
 },
 "nbformat": 4,
 "nbformat_minor": 5
}
