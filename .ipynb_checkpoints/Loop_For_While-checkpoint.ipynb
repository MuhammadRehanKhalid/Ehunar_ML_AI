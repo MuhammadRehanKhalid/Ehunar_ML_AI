{
 "cells": [
  {
   "cell_type": "code",
   "execution_count": null,
   "id": "1c019d29-71b2-4323-83fe-ffce2285353c",
   "metadata": {},
   "outputs": [],
   "source": [
    "list_1 = ['apple', 'banana', 'orange','mango']\n",
    "print(list_1[0], ' Price Tag')"
   ]
  },
  {
   "cell_type": "code",
   "execution_count": null,
   "id": "101010e7-7efd-4208-bf92-10869dba0e3e",
   "metadata": {},
   "outputs": [],
   "source": [
    "# for loop\n",
    "for i in list_1:\n",
    "    print(i ,\" Price tag\")"
   ]
  },
  {
   "cell_type": "code",
   "execution_count": null,
   "id": "036e783c-1429-46be-b7f0-5c2cda9766c5",
   "metadata": {},
   "outputs": [],
   "source": [
    "# Neste for Loop\n",
    "lis1 = [1,2,3,4,5,6]\n",
    "lis2 = ['a','b','c','d','e','f']\n",
    "lis3 = ['apple', 'banana', 'orange','mango']\n",
    "\n",
    "for i in lis1:\n",
    "    print(i)\n",
    "    for j in lis2:\n",
    "        print(j)\n",
    "        for k in lis3:\n",
    "            print(k)"
   ]
  },
  {
   "cell_type": "code",
   "execution_count": null,
   "id": "2533fe10-4cc3-474d-be74-ecbcd20b9b68",
   "metadata": {},
   "outputs": [],
   "source": [
    "list1 = [1,2,3,4,5,6,7,8,9,10]\n",
    "for i in range(100):\n",
    "    for j in range(1,11):\n",
    "        print(f\"{i} x \",j,'=',i*j)"
   ]
  },
  {
   "cell_type": "code",
   "execution_count": 48,
   "id": "f50ae4a3-698c-4847-951a-1fa306a0c4a2",
   "metadata": {},
   "outputs": [
    {
     "name": "stdout",
     "output_type": "stream",
     "text": [
      "I am running\n",
      "1\n",
      "I am running\n",
      "2\n",
      "I am running\n",
      "3\n",
      "I am running\n",
      "4\n"
     ]
    }
   ],
   "source": [
    "# while loop\n",
    "x = 0\n",
    "y = 3\n",
    "while y >= x:\n",
    "    print(\"I am running\")\n",
    "    x += 1\n",
    "    print(x)\n",
    "for i in list1:\n",
    "    pass\n",
    "    "
   ]
  },
  {
   "cell_type": "code",
   "execution_count": 55,
   "id": "44bd5f53-2fbe-43ad-b289-d12562da3d5b",
   "metadata": {},
   "outputs": [
    {
     "name": "stdout",
     "output_type": "stream",
     "text": [
      "XXXXXXXXXX\n",
      "X        X\n"
     ]
    }
   ],
   "source": [
    "# Draw a shape\n",
    "canva = 10\n",
    "inn_canva = canva-3\n",
    "print('X' * canva)\n",
    "print('X', ' '*inn_canva+'X')"
   ]
  }
 ],
 "metadata": {
  "kernelspec": {
   "display_name": "Python 3 (ipykernel)",
   "language": "python",
   "name": "python3"
  },
  "language_info": {
   "codemirror_mode": {
    "name": "ipython",
    "version": 3
   },
   "file_extension": ".py",
   "mimetype": "text/x-python",
   "name": "python",
   "nbconvert_exporter": "python",
   "pygments_lexer": "ipython3",
   "version": "3.10.13"
  }
 },
 "nbformat": 4,
 "nbformat_minor": 5
}
