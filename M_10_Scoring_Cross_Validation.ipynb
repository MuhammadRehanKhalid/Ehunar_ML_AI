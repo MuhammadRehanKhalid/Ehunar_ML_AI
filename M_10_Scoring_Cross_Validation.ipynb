{
 "cells": [
  {
   "cell_type": "markdown",
   "id": "61dc5729-f021-4a37-9512-e44cd96af075",
   "metadata": {},
   "source": [
    "# Change scoring parameters for classification"
   ]
  },
  {
   "cell_type": "code",
   "execution_count": 1,
   "id": "643a7af2-c2e2-403f-8bb5-2099b8a47db5",
   "metadata": {},
   "outputs": [
    {
     "data": {
      "text/plain": [
       "np.float64(0.8051912568306012)"
      ]
     },
     "execution_count": 1,
     "metadata": {},
     "output_type": "execute_result"
    }
   ],
   "source": [
    "from sklearn.ensemble import RandomForestClassifier\n",
    "from sklearn.model_selection import cross_val_score\n",
    "import pandas as pd\n",
    "import numpy as np\n",
    "\n",
    "np.random.seed(7)\n",
    "df = pd.read_csv('heart.csv')\n",
    "df\n",
    "X = df.drop('output', axis = 1)\n",
    "y = df['output']\n",
    "clf = RandomForestClassifier()\n",
    "cro_acc = cross_val_score(clf, X,y, cv = 5)\n",
    "cro_acc.mean()"
   ]
  },
  {
   "cell_type": "code",
   "execution_count": 2,
   "id": "060e7011-876b-44ea-bbf4-8c173413c45a",
   "metadata": {},
   "outputs": [
    {
     "data": {
      "text/plain": [
       "np.float64(0.8248087431693989)"
      ]
     },
     "execution_count": 2,
     "metadata": {},
     "output_type": "execute_result"
    }
   ],
   "source": [
    "cro_acc = cross_val_score(clf, X,y, cv = 5, scoring=None)\n",
    "cro_acc.mean()"
   ]
  },
  {
   "cell_type": "code",
   "execution_count": 3,
   "id": "edbbf2a2-bd94-48f4-a7ee-865f26092f10",
   "metadata": {},
   "outputs": [
    {
     "data": {
      "text/plain": [
       "np.float64(0.8282513661202187)"
      ]
     },
     "execution_count": 3,
     "metadata": {},
     "output_type": "execute_result"
    }
   ],
   "source": [
    "cro_acc = cross_val_score(clf, X,y, cv = 5, scoring='accuracy')\n",
    "cro_acc.mean()"
   ]
  },
  {
   "cell_type": "code",
   "execution_count": 4,
   "id": "ad700db4-344f-4cdf-a08f-3c8f344ad634",
   "metadata": {},
   "outputs": [
    {
     "data": {
      "text/plain": [
       "np.float64(0.8307326007326008)"
      ]
     },
     "execution_count": 4,
     "metadata": {},
     "output_type": "execute_result"
    }
   ],
   "source": [
    "cro_acc = cross_val_score(clf, X,y, cv = 5, scoring='precision')\n",
    "cro_acc.mean()"
   ]
  },
  {
   "cell_type": "code",
   "execution_count": 5,
   "id": "08cca03c-d649-4253-aa90-0f59a2aadbad",
   "metadata": {},
   "outputs": [
    {
     "data": {
      "text/plain": [
       "np.float64(0.8484848484848484)"
      ]
     },
     "execution_count": 5,
     "metadata": {},
     "output_type": "execute_result"
    }
   ],
   "source": [
    "cro_acc = cross_val_score(clf, X,y, cv = 5, scoring='recall')\n",
    "cro_acc.mean()"
   ]
  },
  {
   "cell_type": "code",
   "execution_count": 6,
   "id": "110e2acf-5f37-43ca-bed3-c99e0162a809",
   "metadata": {},
   "outputs": [
    {
     "data": {
      "text/plain": [
       "np.float64(0.8446489253650817)"
      ]
     },
     "execution_count": 6,
     "metadata": {},
     "output_type": "execute_result"
    }
   ],
   "source": [
    "cro_acc = cross_val_score(clf, X,y, cv = 5, scoring='f1')\n",
    "cro_acc.mean()"
   ]
  },
  {
   "cell_type": "markdown",
   "id": "bd97852a-1562-4e3f-b0b4-3ea13c525d7c",
   "metadata": {},
   "source": [
    "# Scoring parametrs for regression"
   ]
  },
  {
   "cell_type": "code",
   "execution_count": 7,
   "id": "f6a15aa6-d2d5-441a-8814-56691c909044",
   "metadata": {},
   "outputs": [
    {
     "data": {
      "text/plain": [
       "np.float64(0.6179678382524438)"
      ]
     },
     "execution_count": 7,
     "metadata": {},
     "output_type": "execute_result"
    }
   ],
   "source": [
    "from sklearn.ensemble import RandomForestRegressor\n",
    "from sklearn.model_selection import cross_val_score\n",
    "import pandas as pd\n",
    "import numpy as np\n",
    "\n",
    "np.random.seed(7)\n",
    "df = pd.read_csv('housing.csv')\n",
    "df\n",
    "X = df.drop('target', axis = 1)\n",
    "y = df['target']\n",
    "cvr_reg = RandomForestRegressor()\n",
    "cvr_acc = cross_val_score(cvr_reg\n",
    "                          , X,y, cv = 5)\n",
    "cvr_acc.mean()"
   ]
  },
  {
   "cell_type": "code",
   "execution_count": 8,
   "id": "b7ee1da2-848c-4675-a89a-713fd4c7bf6c",
   "metadata": {},
   "outputs": [
    {
     "data": {
      "text/plain": [
       "np.float64(0.6179678382524438)"
      ]
     },
     "execution_count": 8,
     "metadata": {},
     "output_type": "execute_result"
    }
   ],
   "source": [
    "np.random.seed(7)\n",
    "cvr_rd = cross_val_score(cvr_reg, X,y, cv = 5, scoring=None)\n",
    "cvr_rd.mean()"
   ]
  },
  {
   "cell_type": "code",
   "execution_count": 9,
   "id": "510d190a-49c0-45d7-bb2b-4e246bdf167e",
   "metadata": {},
   "outputs": [
    {
     "data": {
      "text/plain": [
       "np.float64(-2.986485866821976)"
      ]
     },
     "execution_count": 9,
     "metadata": {},
     "output_type": "execute_result"
    }
   ],
   "source": [
    "np.random.seed(7)\n",
    "cvr_rd = cross_val_score(cvr_reg, X,y, cv = 5, scoring='neg_mean_absolute_error')\n",
    "cvr_rd.mean()"
   ]
  },
  {
   "cell_type": "code",
   "execution_count": 10,
   "id": "69b47014-8cb8-48bc-a2ff-fc560e6a549d",
   "metadata": {},
   "outputs": [
    {
     "data": {
      "text/plain": [
       "np.float64(-21.721235241331772)"
      ]
     },
     "execution_count": 10,
     "metadata": {},
     "output_type": "execute_result"
    }
   ],
   "source": [
    "np.random.seed(7)\n",
    "cvr_rd = cross_val_score(cvr_reg, X,y, cv = 5, scoring='neg_mean_squared_error')\n",
    "cvr_rd.mean()"
   ]
  },
  {
   "cell_type": "code",
   "execution_count": 11,
   "id": "957f87c8-08fe-4d81-a72e-4d1f1b440039",
   "metadata": {},
   "outputs": [],
   "source": [
    "# try other parameters"
   ]
  },
  {
   "cell_type": "markdown",
   "id": "dd761ec6-7b01-4a42-8047-3df73576a234",
   "metadata": {},
   "source": [
    "# Metric Function"
   ]
  },
  {
   "cell_type": "code",
   "execution_count": 12,
   "id": "2832f999-5039-4dee-a575-c16afd2bcbf0",
   "metadata": {},
   "outputs": [
    {
     "name": "stdout",
     "output_type": "stream",
     "text": [
      "Model Evaluation using Sklearn Functions\n",
      "Accuracy score is 0.7213114754098361\n",
      "Precision score is 0.6842105263157895\n",
      "Recall_score score is 0.8387096774193549\n",
      "F1_score is 0.7536231884057971\n"
     ]
    }
   ],
   "source": [
    "# Classification\n",
    "from sklearn.metrics import accuracy_score, precision_score, recall_score, f1_score\n",
    "from sklearn.ensemble import RandomForestClassifier\n",
    "from sklearn.model_selection import train_test_split\n",
    "import numpy as np\n",
    "import pandas as pd\n",
    "np.random.seed(7)\n",
    "# loading data\n",
    "df_h = pd.read_csv('heart.csv')\n",
    "# Split_data\n",
    "X = df_h.drop('output', axis = 1)\n",
    "y = df_h['output']\n",
    "# make_model\n",
    "X_train, X_test, y_train, y_test = train_test_split(X,y, test_size = .2)\n",
    "# instaniate Model\n",
    "clf = RandomForestClassifier()\n",
    "#fit_model\n",
    "clf.fit(X_train, y_train)\n",
    "#predict the values\n",
    "y_predict = clf.predict(X_test)\n",
    "# Evaluating Model Using Sklearn Functions\n",
    "print('Model Evaluation using Sklearn Functions')\n",
    "print(f'Accuracy score is {accuracy_score(y_test, y_predict)}')\n",
    "print(f'Precision score is {precision_score(y_test, y_predict)}')\n",
    "print(f'Recall_score score is {recall_score(y_test, y_predict)}')\n",
    "print(f'F1_score is {f1_score(y_test, y_predict)}')"
   ]
  },
  {
   "cell_type": "code",
   "execution_count": 13,
   "id": "570c8856-1696-498d-8e58-bb655aa8c302",
   "metadata": {},
   "outputs": [
    {
     "name": "stdout",
     "output_type": "stream",
     "text": [
      "Model Evaluation using Sklearn Functions\n",
      "r2_score is 0.8092443411593175\n",
      "mean_absolute_error score is 2.3153627450980383\n",
      "mean_squared_error score is 15.414251382352935\n",
      "mean_gamma_deviance is 0.025017387614045702\n"
     ]
    }
   ],
   "source": [
    "# Regression Function\n",
    "# Classification\n",
    "from sklearn.metrics import r2_score,mean_absolute_error,mean_squared_error, mean_gamma_deviance\n",
    "from sklearn.ensemble import RandomForestRegressor\n",
    "from sklearn.model_selection import train_test_split\n",
    "import numpy as np\n",
    "import pandas as pd\n",
    "np.random.seed(7)\n",
    "# loading data\n",
    "df_h = pd.read_csv('housing.csv')\n",
    "# Split_data\n",
    "X = df_h.drop('target', axis = 1)\n",
    "y = df_h['target']\n",
    "# make_model\n",
    "X_train, X_test, y_train, y_test = train_test_split(X,y, test_size = .2)\n",
    "# instaniate Model\n",
    "clf = RandomForestRegressor()\n",
    "#fit_model\n",
    "clf.fit(X_train, y_train)\n",
    "#predict the values\n",
    "y_predict = clf.predict(X_test)\n",
    "# Evaluating Model Using Sklearn Functions\n",
    "print('Model Evaluation using Sklearn Functions')\n",
    "print(f'r2_score is {r2_score(y_test, y_predict)}')\n",
    "print(f'mean_absolute_error score is {mean_absolute_error(y_test, y_predict)}')\n",
    "print(f'mean_squared_error score is {mean_squared_error(y_test, y_predict)}')\n",
    "print(f'mean_gamma_deviance is {mean_gamma_deviance(y_test, y_predict)}')"
   ]
  },
  {
   "cell_type": "code",
   "execution_count": null,
   "id": "61527962-a5ea-45aa-a38d-bf1724e8fb00",
   "metadata": {},
   "outputs": [],
   "source": []
  }
 ],
 "metadata": {
  "kernelspec": {
   "display_name": "Python 3 (ipykernel)",
   "language": "python",
   "name": "python3"
  },
  "language_info": {
   "codemirror_mode": {
    "name": "ipython",
    "version": 3
   },
   "file_extension": ".py",
   "mimetype": "text/x-python",
   "name": "python",
   "nbconvert_exporter": "python",
   "pygments_lexer": "ipython3",
   "version": "3.10.13"
  }
 },
 "nbformat": 4,
 "nbformat_minor": 5
}
