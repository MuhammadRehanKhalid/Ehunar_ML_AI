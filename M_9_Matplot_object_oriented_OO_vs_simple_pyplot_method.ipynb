{
 "cells": [
  {
   "cell_type": "markdown",
   "id": "eabfebd4-eaf7-4043-9b3e-924fa1f1b9a7",
   "metadata": {},
   "source": [
    "# Matplotlib OO_method vs Pyplot_method"
   ]
  },
  {
   "cell_type": "code",
   "execution_count": null,
   "id": "bffa5491-6ca4-4c5d-a74b-c1e95c27d8db",
   "metadata": {},
   "outputs": [],
   "source": [
    "%matplotlib inline\n",
    "import pandas as pd\n",
    "import numpy as np\n",
    "from matplotlib.image import imread\n",
    "import  matplotlib.pyplot as plt\n",
    "import seaborn as sns"
   ]
  }
 ],
 "metadata": {
  "kernelspec": {
   "display_name": "Python 3 (ipykernel)",
   "language": "python",
   "name": "python3"
  },
  "language_info": {
   "codemirror_mode": {
    "name": "ipython",
    "version": 3
   },
   "file_extension": ".py",
   "mimetype": "text/x-python",
   "name": "python",
   "nbconvert_exporter": "python",
   "pygments_lexer": "ipython3",
   "version": "3.10.13"
  }
 },
 "nbformat": 4,
 "nbformat_minor": 5
}
