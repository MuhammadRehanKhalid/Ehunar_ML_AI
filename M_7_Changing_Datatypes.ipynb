{
 "cells": [
  {
   "cell_type": "markdown",
   "id": "26fe377b-2e5c-4452-860d-e6ffba9639b1",
   "metadata": {},
   "source": [
    "### python list additon require equal number  of entries as in table but in series entries dont needed full they might b empty"
   ]
  },
  {
   "cell_type": "code",
   "execution_count": 4,
   "id": "a7adff16-b29e-4b19-b431-a87e03639463",
   "metadata": {},
   "outputs": [],
   "source": [
    "import pandas as pd\n",
    "import numpy as np\n",
    "import matplotlib.pyplot as plt\n",
    "import sklearn as sk"
   ]
  },
  {
   "cell_type": "code",
   "execution_count": 5,
   "id": "390e5e81-daaf-467d-bc3c-43c6bc881fa1",
   "metadata": {},
   "outputs": [],
   "source": [
    "df = pd.read_csv('./phones_data.csv')"
   ]
  },
  {
   "cell_type": "code",
   "execution_count": 17,
   "id": "18561931-f70e-4f82-82be-98c7e0bc4474",
   "metadata": {},
   "outputs": [
    {
     "name": "stdout",
     "output_type": "stream",
     "text": [
      "<class 'pandas.core.frame.DataFrame'>\n",
      "RangeIndex: 1224 entries, 0 to 1223\n",
      "Data columns (total 13 columns):\n",
      " #   Column          Non-Null Count  Dtype  \n",
      "---  ------          --------------  -----  \n",
      " 0   Unnamed: 0      1224 non-null   int64  \n",
      " 1   brand_name      1224 non-null   object \n",
      " 2   model_name      1224 non-null   object \n",
      " 3   os              1027 non-null   object \n",
      " 4   popularity      1224 non-null   int64  \n",
      " 5   best_price      1224 non-null   float64\n",
      " 6   lowest_price    964 non-null    float64\n",
      " 7   highest_price   964 non-null    float64\n",
      " 8   sellers_amount  1224 non-null   int64  \n",
      " 9   screen_size     1222 non-null   float64\n",
      " 10  memory_size     1112 non-null   float64\n",
      " 11  battery_size    1214 non-null   float64\n",
      " 12  release_date    1224 non-null   object \n",
      "dtypes: float64(6), int64(3), object(4)\n",
      "memory usage: 124.4+ KB\n"
     ]
    }
   ],
   "source": [
    "df.info()"
   ]
  },
  {
   "cell_type": "code",
   "execution_count": 19,
   "id": "7bc2a035-cae2-4ee3-a931-f11defdf391a",
   "metadata": {},
   "outputs": [
    {
     "data": {
      "text/plain": [
       "Unnamed: 0          0\n",
       "brand_name          0\n",
       "model_name          0\n",
       "os                197\n",
       "popularity          0\n",
       "best_price          0\n",
       "lowest_price      260\n",
       "highest_price     260\n",
       "sellers_amount      0\n",
       "screen_size         2\n",
       "memory_size       112\n",
       "battery_size       10\n",
       "release_date        0\n",
       "dtype: int64"
      ]
     },
     "execution_count": 19,
     "metadata": {},
     "output_type": "execute_result"
    }
   ],
   "source": [
    "df.isnull().sum()"
   ]
  },
  {
   "cell_type": "code",
   "execution_count": 20,
   "id": "4e015899-ca62-45e5-9ecc-d8829cc05069",
   "metadata": {},
   "outputs": [],
   "source": [
    "df['lowest_price'] = df['lowest_price'].fillna(df['lowest_price'].mean())\n",
    "df['highest_price'] = df['highest_price'].fillna(df['highest_price'].mean())\n",
    "df['memory_size'] = df['memory_size'].fillna(df['memory_size'].mean())\n",
    "df['battery_size'] = df['battery_size'].fillna(df['battery_size'].mean())"
   ]
  },
  {
   "cell_type": "code",
   "execution_count": 31,
   "id": "25a6062d-946a-42a9-bc1f-a97bcf4c15c4",
   "metadata": {},
   "outputs": [],
   "source": [
    "del df[df.columns[0]]\n"
   ]
  },
  {
   "cell_type": "code",
   "execution_count": 32,
   "id": "fbdf2881-4619-4a64-8c65-52b891d012a9",
   "metadata": {},
   "outputs": [
    {
     "data": {
      "text/plain": [
       "model_name        0\n",
       "os                0\n",
       "popularity        0\n",
       "best_price        0\n",
       "lowest_price      0\n",
       "highest_price     0\n",
       "sellers_amount    0\n",
       "screen_size       0\n",
       "memory_size       0\n",
       "battery_size      0\n",
       "release_date      0\n",
       "dtype: int64"
      ]
     },
     "execution_count": 32,
     "metadata": {},
     "output_type": "execute_result"
    }
   ],
   "source": [
    "df.isnull().sum()"
   ]
  },
  {
   "cell_type": "code",
   "execution_count": 33,
   "id": "baed5b05-7cff-43f3-894c-9404111e9a0c",
   "metadata": {},
   "outputs": [],
   "source": [
    "df.dropna(inplace=True)"
   ]
  },
  {
   "cell_type": "code",
   "execution_count": 34,
   "id": "0c00929e-3d0b-4e6b-a098-c14e4a56ca9d",
   "metadata": {},
   "outputs": [
    {
     "name": "stdout",
     "output_type": "stream",
     "text": [
      "<class 'pandas.core.frame.DataFrame'>\n",
      "Index: 1026 entries, 0 to 1222\n",
      "Data columns (total 11 columns):\n",
      " #   Column          Non-Null Count  Dtype  \n",
      "---  ------          --------------  -----  \n",
      " 0   model_name      1026 non-null   object \n",
      " 1   os              1026 non-null   object \n",
      " 2   popularity      1026 non-null   int64  \n",
      " 3   best_price      1026 non-null   float64\n",
      " 4   lowest_price    1026 non-null   float64\n",
      " 5   highest_price   1026 non-null   float64\n",
      " 6   sellers_amount  1026 non-null   int64  \n",
      " 7   screen_size     1026 non-null   float64\n",
      " 8   memory_size     1026 non-null   float64\n",
      " 9   battery_size    1026 non-null   float64\n",
      " 10  release_date    1026 non-null   object \n",
      "dtypes: float64(6), int64(2), object(3)\n",
      "memory usage: 96.2+ KB\n"
     ]
    }
   ],
   "source": [
    "df.info()"
   ]
  },
  {
   "cell_type": "code",
   "execution_count": 35,
   "id": "5e8e5291-4b95-433d-9384-9b4c07ceff8a",
   "metadata": {},
   "outputs": [],
   "source": [
    "df.to_csv('cleaned_phone_data.csv', index = False)"
   ]
  },
  {
   "cell_type": "code",
   "execution_count": 42,
   "id": "fdc62a82-d9b4-4e03-afaa-e2cb767da120",
   "metadata": {},
   "outputs": [],
   "source": [
    "h_price = df['highest_price']\n",
    "l_price = df['lowest_price']\n",
    "df['average_price'] = h_price - l_price"
   ]
  },
  {
   "cell_type": "code",
   "execution_count": 50,
   "id": "db206d9c-cd98-45aa-9ee1-797d55f869f2",
   "metadata": {},
   "outputs": [
    {
     "data": {
      "text/html": [
       "<div>\n",
       "<style scoped>\n",
       "    .dataframe tbody tr th:only-of-type {\n",
       "        vertical-align: middle;\n",
       "    }\n",
       "\n",
       "    .dataframe tbody tr th {\n",
       "        vertical-align: top;\n",
       "    }\n",
       "\n",
       "    .dataframe thead th {\n",
       "        text-align: right;\n",
       "    }\n",
       "</style>\n",
       "<table border=\"1\" class=\"dataframe\">\n",
       "  <thead>\n",
       "    <tr style=\"text-align: right;\">\n",
       "      <th></th>\n",
       "      <th>model_name</th>\n",
       "      <th>os</th>\n",
       "      <th>popularity</th>\n",
       "      <th>best_price</th>\n",
       "      <th>lowest_price</th>\n",
       "      <th>highest_price</th>\n",
       "      <th>sellers_amount</th>\n",
       "      <th>screen_size</th>\n",
       "      <th>memory_size</th>\n",
       "      <th>battery_size</th>\n",
       "      <th>release_date</th>\n",
       "      <th>average_price</th>\n",
       "    </tr>\n",
       "  </thead>\n",
       "  <tbody>\n",
       "    <tr>\n",
       "      <th>0</th>\n",
       "      <td>1 1/8GB Bluish Black (5033D-2JALUAA)</td>\n",
       "      <td>Android</td>\n",
       "      <td>422</td>\n",
       "      <td>1690.0</td>\n",
       "      <td>1529.000000</td>\n",
       "      <td>1819.000000</td>\n",
       "      <td>36</td>\n",
       "      <td>5.00</td>\n",
       "      <td>8.0</td>\n",
       "      <td>2000.0</td>\n",
       "      <td>10-2020</td>\n",
       "      <td>290.000000</td>\n",
       "    </tr>\n",
       "    <tr>\n",
       "      <th>1</th>\n",
       "      <td>1 5033D 1/16GB Volcano Black (5033D-2LALUAF)</td>\n",
       "      <td>Android</td>\n",
       "      <td>323</td>\n",
       "      <td>1803.0</td>\n",
       "      <td>1659.000000</td>\n",
       "      <td>2489.000000</td>\n",
       "      <td>36</td>\n",
       "      <td>5.00</td>\n",
       "      <td>16.0</td>\n",
       "      <td>2000.0</td>\n",
       "      <td>9-2020</td>\n",
       "      <td>830.000000</td>\n",
       "    </tr>\n",
       "    <tr>\n",
       "      <th>2</th>\n",
       "      <td>1 5033D 1/16GB Volcano Black (5033D-2LALUAF)</td>\n",
       "      <td>Android</td>\n",
       "      <td>299</td>\n",
       "      <td>1803.0</td>\n",
       "      <td>1659.000000</td>\n",
       "      <td>2489.000000</td>\n",
       "      <td>36</td>\n",
       "      <td>5.00</td>\n",
       "      <td>16.0</td>\n",
       "      <td>2000.0</td>\n",
       "      <td>9-2020</td>\n",
       "      <td>830.000000</td>\n",
       "    </tr>\n",
       "    <tr>\n",
       "      <th>3</th>\n",
       "      <td>1 5033D 1/16GB Volcano Black (5033D-2LALUAF)</td>\n",
       "      <td>Android</td>\n",
       "      <td>287</td>\n",
       "      <td>1803.0</td>\n",
       "      <td>1659.000000</td>\n",
       "      <td>2489.000000</td>\n",
       "      <td>36</td>\n",
       "      <td>5.00</td>\n",
       "      <td>16.0</td>\n",
       "      <td>2000.0</td>\n",
       "      <td>9-2020</td>\n",
       "      <td>830.000000</td>\n",
       "    </tr>\n",
       "    <tr>\n",
       "      <th>4</th>\n",
       "      <td>1.3 1/16GB Charcoal</td>\n",
       "      <td>Android</td>\n",
       "      <td>1047</td>\n",
       "      <td>1999.0</td>\n",
       "      <td>7716.018672</td>\n",
       "      <td>9883.410788</td>\n",
       "      <td>10</td>\n",
       "      <td>5.71</td>\n",
       "      <td>16.0</td>\n",
       "      <td>3000.0</td>\n",
       "      <td>4-2020</td>\n",
       "      <td>2167.392116</td>\n",
       "    </tr>\n",
       "    <tr>\n",
       "      <th>...</th>\n",
       "      <td>...</td>\n",
       "      <td>...</td>\n",
       "      <td>...</td>\n",
       "      <td>...</td>\n",
       "      <td>...</td>\n",
       "      <td>...</td>\n",
       "      <td>...</td>\n",
       "      <td>...</td>\n",
       "      <td>...</td>\n",
       "      <td>...</td>\n",
       "      <td>...</td>\n",
       "      <td>...</td>\n",
       "    </tr>\n",
       "    <tr>\n",
       "      <th>1218</th>\n",
       "      <td>iPhone XS Max 512GB Space Gray (MT622)</td>\n",
       "      <td>iOS</td>\n",
       "      <td>842</td>\n",
       "      <td>27190.0</td>\n",
       "      <td>21150.000000</td>\n",
       "      <td>30200.000000</td>\n",
       "      <td>47</td>\n",
       "      <td>6.50</td>\n",
       "      <td>512.0</td>\n",
       "      <td>3174.0</td>\n",
       "      <td>9-2018</td>\n",
       "      <td>9050.000000</td>\n",
       "    </tr>\n",
       "    <tr>\n",
       "      <th>1219</th>\n",
       "      <td>iPhone XS Max 64GB Gold (MT522)</td>\n",
       "      <td>iOS</td>\n",
       "      <td>1101</td>\n",
       "      <td>22685.0</td>\n",
       "      <td>16018.000000</td>\n",
       "      <td>27900.000000</td>\n",
       "      <td>61</td>\n",
       "      <td>6.50</td>\n",
       "      <td>64.0</td>\n",
       "      <td>3174.0</td>\n",
       "      <td>9-2018</td>\n",
       "      <td>11882.000000</td>\n",
       "    </tr>\n",
       "    <tr>\n",
       "      <th>1220</th>\n",
       "      <td>iPhone XS Max Dual Sim 64GB Gold (MT732)</td>\n",
       "      <td>iOS</td>\n",
       "      <td>530</td>\n",
       "      <td>24600.0</td>\n",
       "      <td>21939.000000</td>\n",
       "      <td>33720.000000</td>\n",
       "      <td>28</td>\n",
       "      <td>6.50</td>\n",
       "      <td>64.0</td>\n",
       "      <td>3174.0</td>\n",
       "      <td>9-2018</td>\n",
       "      <td>11781.000000</td>\n",
       "    </tr>\n",
       "    <tr>\n",
       "      <th>1221</th>\n",
       "      <td>nova 5T 6/128GB Black (51094MEU)</td>\n",
       "      <td>Android</td>\n",
       "      <td>1174</td>\n",
       "      <td>8804.0</td>\n",
       "      <td>7999.000000</td>\n",
       "      <td>9999.000000</td>\n",
       "      <td>18</td>\n",
       "      <td>6.26</td>\n",
       "      <td>128.0</td>\n",
       "      <td>3750.0</td>\n",
       "      <td>11-2019</td>\n",
       "      <td>2000.000000</td>\n",
       "    </tr>\n",
       "    <tr>\n",
       "      <th>1222</th>\n",
       "      <td>nubia Red Magic 5G 8/128GB Black</td>\n",
       "      <td>Android</td>\n",
       "      <td>752</td>\n",
       "      <td>18755.0</td>\n",
       "      <td>18500.000000</td>\n",
       "      <td>19010.000000</td>\n",
       "      <td>2</td>\n",
       "      <td>6.65</td>\n",
       "      <td>128.0</td>\n",
       "      <td>4500.0</td>\n",
       "      <td>10-2020</td>\n",
       "      <td>510.000000</td>\n",
       "    </tr>\n",
       "  </tbody>\n",
       "</table>\n",
       "<p>1026 rows × 12 columns</p>\n",
       "</div>"
      ],
      "text/plain": [
       "                                        model_name       os  popularity  \\\n",
       "0             1 1/8GB Bluish Black (5033D-2JALUAA)  Android         422   \n",
       "1     1 5033D 1/16GB Volcano Black (5033D-2LALUAF)  Android         323   \n",
       "2     1 5033D 1/16GB Volcano Black (5033D-2LALUAF)  Android         299   \n",
       "3     1 5033D 1/16GB Volcano Black (5033D-2LALUAF)  Android         287   \n",
       "4                              1.3 1/16GB Charcoal  Android        1047   \n",
       "...                                            ...      ...         ...   \n",
       "1218        iPhone XS Max 512GB Space Gray (MT622)      iOS         842   \n",
       "1219               iPhone XS Max 64GB Gold (MT522)      iOS        1101   \n",
       "1220      iPhone XS Max Dual Sim 64GB Gold (MT732)      iOS         530   \n",
       "1221              nova 5T 6/128GB Black (51094MEU)  Android        1174   \n",
       "1222              nubia Red Magic 5G 8/128GB Black  Android         752   \n",
       "\n",
       "      best_price  lowest_price  highest_price  sellers_amount  screen_size  \\\n",
       "0         1690.0   1529.000000    1819.000000              36         5.00   \n",
       "1         1803.0   1659.000000    2489.000000              36         5.00   \n",
       "2         1803.0   1659.000000    2489.000000              36         5.00   \n",
       "3         1803.0   1659.000000    2489.000000              36         5.00   \n",
       "4         1999.0   7716.018672    9883.410788              10         5.71   \n",
       "...          ...           ...            ...             ...          ...   \n",
       "1218     27190.0  21150.000000   30200.000000              47         6.50   \n",
       "1219     22685.0  16018.000000   27900.000000              61         6.50   \n",
       "1220     24600.0  21939.000000   33720.000000              28         6.50   \n",
       "1221      8804.0   7999.000000    9999.000000              18         6.26   \n",
       "1222     18755.0  18500.000000   19010.000000               2         6.65   \n",
       "\n",
       "      memory_size  battery_size release_date  average_price  \n",
       "0             8.0        2000.0      10-2020     290.000000  \n",
       "1            16.0        2000.0       9-2020     830.000000  \n",
       "2            16.0        2000.0       9-2020     830.000000  \n",
       "3            16.0        2000.0       9-2020     830.000000  \n",
       "4            16.0        3000.0       4-2020    2167.392116  \n",
       "...           ...           ...          ...            ...  \n",
       "1218        512.0        3174.0       9-2018    9050.000000  \n",
       "1219         64.0        3174.0       9-2018   11882.000000  \n",
       "1220         64.0        3174.0       9-2018   11781.000000  \n",
       "1221        128.0        3750.0      11-2019    2000.000000  \n",
       "1222        128.0        4500.0      10-2020     510.000000  \n",
       "\n",
       "[1026 rows x 12 columns]"
      ]
     },
     "execution_count": 50,
     "metadata": {},
     "output_type": "execute_result"
    }
   ],
   "source": [
    "df"
   ]
  }
 ],
 "metadata": {
  "kernelspec": {
   "display_name": "Python 3 (ipykernel)",
   "language": "python",
   "name": "python3"
  },
  "language_info": {
   "codemirror_mode": {
    "name": "ipython",
    "version": 3
   },
   "file_extension": ".py",
   "mimetype": "text/x-python",
   "name": "python",
   "nbconvert_exporter": "python",
   "pygments_lexer": "ipython3",
   "version": "3.10.13"
  }
 },
 "nbformat": 4,
 "nbformat_minor": 5
}
