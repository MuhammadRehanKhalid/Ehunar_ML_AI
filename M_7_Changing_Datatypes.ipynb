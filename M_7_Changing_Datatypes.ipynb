{
 "cells": [
  {
   "cell_type": "code",
   "execution_count": 2,
   "id": "a7adff16-b29e-4b19-b431-a87e03639463",
   "metadata": {},
   "outputs": [],
   "source": [
    "import pandas as pd\n",
    "import numpy as np\n",
    "import matplotlib.pyplot as plt\n",
    "import sklearn as sk"
   ]
  },
  {
   "cell_type": "code",
   "execution_count": 16,
   "id": "390e5e81-daaf-467d-bc3c-43c6bc881fa1",
   "metadata": {},
   "outputs": [],
   "source": [
    "df = pd.read_csv('./phones_data.csv')"
   ]
  },
  {
   "cell_type": "code",
   "execution_count": 17,
   "id": "18561931-f70e-4f82-82be-98c7e0bc4474",
   "metadata": {},
   "outputs": [
    {
     "name": "stdout",
     "output_type": "stream",
     "text": [
      "<class 'pandas.core.frame.DataFrame'>\n",
      "RangeIndex: 1224 entries, 0 to 1223\n",
      "Data columns (total 13 columns):\n",
      " #   Column          Non-Null Count  Dtype  \n",
      "---  ------          --------------  -----  \n",
      " 0   Unnamed: 0      1224 non-null   int64  \n",
      " 1   brand_name      1224 non-null   object \n",
      " 2   model_name      1224 non-null   object \n",
      " 3   os              1027 non-null   object \n",
      " 4   popularity      1224 non-null   int64  \n",
      " 5   best_price      1224 non-null   float64\n",
      " 6   lowest_price    964 non-null    float64\n",
      " 7   highest_price   964 non-null    float64\n",
      " 8   sellers_amount  1224 non-null   int64  \n",
      " 9   screen_size     1222 non-null   float64\n",
      " 10  memory_size     1112 non-null   float64\n",
      " 11  battery_size    1214 non-null   float64\n",
      " 12  release_date    1224 non-null   object \n",
      "dtypes: float64(6), int64(3), object(4)\n",
      "memory usage: 124.4+ KB\n"
     ]
    }
   ],
   "source": [
    "df.info()"
   ]
  },
  {
   "cell_type": "code",
   "execution_count": 18,
   "id": "7bc2a035-cae2-4ee3-a931-f11defdf391a",
   "metadata": {},
   "outputs": [
    {
     "data": {
      "text/plain": [
       "Unnamed: 0          0\n",
       "brand_name          0\n",
       "model_name          0\n",
       "os                197\n",
       "popularity          0\n",
       "best_price          0\n",
       "lowest_price      260\n",
       "highest_price     260\n",
       "sellers_amount      0\n",
       "screen_size         2\n",
       "memory_size       112\n",
       "battery_size       10\n",
       "release_date        0\n",
       "dtype: int64"
      ]
     },
     "execution_count": 18,
     "metadata": {},
     "output_type": "execute_result"
    }
   ],
   "source": [
    "df.isnull().sum()"
   ]
  },
  {
   "cell_type": "code",
   "execution_count": 27,
   "id": "4e015899-ca62-45e5-9ecc-d8829cc05069",
   "metadata": {},
   "outputs": [],
   "source": [
    "df['lowest_price'] = df['lowest_price'].fillna(df['lowest_price'].mean())\n",
    "df['highest_price'] = df['highest_price'].fillna(df['highest_price'].mean())\n",
    "df['memory_size'] = df['memory_size'].fillna(df['memory_size'].mean())\n",
    "df['battery_size'] = df['battery_size'].fillna(df['battery_size'].mean())"
   ]
  },
  {
   "cell_type": "code",
   "execution_count": 29,
   "id": "baed5b05-7cff-43f3-894c-9404111e9a0c",
   "metadata": {},
   "outputs": [],
   "source": [
    "df.dropna(inplace=True)"
   ]
  },
  {
   "cell_type": "code",
   "execution_count": 30,
   "id": "fbdf2881-4619-4a64-8c65-52b891d012a9",
   "metadata": {},
   "outputs": [
    {
     "data": {
      "text/plain": [
       "Unnamed: 0        0\n",
       "brand_name        0\n",
       "model_name        0\n",
       "os                0\n",
       "popularity        0\n",
       "best_price        0\n",
       "lowest_price      0\n",
       "highest_price     0\n",
       "sellers_amount    0\n",
       "screen_size       0\n",
       "memory_size       0\n",
       "battery_size      0\n",
       "release_date      0\n",
       "dtype: int64"
      ]
     },
     "execution_count": 30,
     "metadata": {},
     "output_type": "execute_result"
    }
   ],
   "source": [
    "df.isnull().sum()"
   ]
  }
 ],
 "metadata": {
  "kernelspec": {
   "display_name": "Python 3 (ipykernel)",
   "language": "python",
   "name": "python3"
  },
  "language_info": {
   "codemirror_mode": {
    "name": "ipython",
    "version": 3
   },
   "file_extension": ".py",
   "mimetype": "text/x-python",
   "name": "python",
   "nbconvert_exporter": "python",
   "pygments_lexer": "ipython3",
   "version": "3.10.13"
  }
 },
 "nbformat": 4,
 "nbformat_minor": 5
}
