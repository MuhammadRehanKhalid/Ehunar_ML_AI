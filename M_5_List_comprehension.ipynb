{
 "cells": [
  {
   "cell_type": "code",
   "execution_count": 12,
   "id": "efb5e1d1-c047-446e-97e2-44470ff6ac72",
   "metadata": {},
   "outputs": [
    {
     "name": "stdout",
     "output_type": "stream",
     "text": [
      "[0, 1, 2, 3, 4, 5, 6, 7, 8, 9]\n",
      "[0, 1, 2, 3, 4, 5, 6, 7, 8, 9]\n",
      "[0, 1, 4, 9, 16, 25, 36, 49, 64, 81]\n"
     ]
    }
   ],
   "source": [
    "# list comprehension: case 1\n",
    "li_one = []\n",
    "for i in range(10):\n",
    "    li_one.append(i)\n",
    "print(li_one)\n",
    "li_two = [i for i in range(10)]\n",
    "print(li_two)\n",
    "\n",
    "\n",
    "li_two = [i**2 for i in range(10)]\n",
    "print(li_two)"
   ]
  },
  {
   "cell_type": "code",
   "execution_count": 24,
   "id": "102d475e-49a3-4283-8860-82969403046f",
   "metadata": {},
   "outputs": [
    {
     "name": "stdout",
     "output_type": "stream",
     "text": [
      "[0, 4, 16, 36, 64]\n",
      "[0, 4, 16, 36, 64]\n"
     ]
    }
   ],
   "source": [
    "list_3 = []\n",
    "for i in range(10):\n",
    "    if i%2==0:\n",
    "        list_3.append(i**2)\n",
    "print(list_3)\n",
    "\n",
    "list_3 = [i**2 for i in range(10) if i%2==0]\n",
    "print(list_3)"
   ]
  },
  {
   "cell_type": "code",
   "execution_count": 28,
   "id": "37f3eac1-2c0a-46af-bf42-7c18372c15fb",
   "metadata": {},
   "outputs": [
    {
     "name": "stdout",
     "output_type": "stream",
     "text": [
      "{0, 64, 4, 36, 16}\n"
     ]
    }
   ],
   "source": [
    "# set comprehension\n",
    "\n",
    "list_3 = {i**2 for i in range(10) if i%2==0}\n",
    "print(list_3)"
   ]
  },
  {
   "cell_type": "code",
   "execution_count": 31,
   "id": "86807d24-a26f-4810-91f2-2bb46072b726",
   "metadata": {},
   "outputs": [
    {
     "name": "stdout",
     "output_type": "stream",
     "text": [
      "{'x': 1, 'y': 4, 'z': 9}\n"
     ]
    }
   ],
   "source": [
    "# DIc comprehension\n",
    "dic = {\n",
    "    \"x\" : 1,\n",
    "    \"y\" : 2,\n",
    "    \"z\" : 3\n",
    "}\n",
    "my_dic_com = {key:value**2 for key, value in dic.items()}\n",
    "print(my_dic_com)"
   ]
  }
 ],
 "metadata": {
  "kernelspec": {
   "display_name": "Python 3 (ipykernel)",
   "language": "python",
   "name": "python3"
  },
  "language_info": {
   "codemirror_mode": {
    "name": "ipython",
    "version": 3
   },
   "file_extension": ".py",
   "mimetype": "text/x-python",
   "name": "python",
   "nbconvert_exporter": "python",
   "pygments_lexer": "ipython3",
   "version": "3.10.13"
  }
 },
 "nbformat": 4,
 "nbformat_minor": 5
}
