{
 "cells": [
  {
   "cell_type": "markdown",
   "id": "946490e9-c5fb-4dea-a89c-b74a78bbafd3",
   "metadata": {},
   "source": [
    "# Data analysis (EDA)"
   ]
  },
  {
   "cell_type": "markdown",
   "id": "7a97a7fd-7cfd-4560-a0bd-195cf6848a95",
   "metadata": {},
   "source": [
    "## Libraries to be used"
   ]
  },
  {
   "cell_type": "code",
   "execution_count": 1,
   "id": "710fa0de-852d-46a7-8b5d-791190fb046f",
   "metadata": {},
   "outputs": [],
   "source": [
    "import pandas as pd\n",
    "import numpy as np\n",
    "import matplotlib.pyplot as plt\n",
    "import sklearn as sk"
   ]
  },
  {
   "cell_type": "markdown",
   "id": "3de4efa0-f779-4d5c-923b-1d6338975ac4",
   "metadata": {},
   "source": [
    "## Problem to be identified\n",
    "+ Need data\n",
    "+ Evaluation\n",
    "+ Features\n",
    "+ Modeling\n",
    "+ Iteration"
   ]
  },
  {
   "cell_type": "code",
   "execution_count": null,
   "id": "8e68acce-8b5a-4610-9e96-e537595fe56b",
   "metadata": {},
   "outputs": [],
   "source": []
  }
 ],
 "metadata": {
  "kernelspec": {
   "display_name": "Python 3 (ipykernel)",
   "language": "python",
   "name": "python3"
  },
  "language_info": {
   "codemirror_mode": {
    "name": "ipython",
    "version": 3
   },
   "file_extension": ".py",
   "mimetype": "text/x-python",
   "name": "python",
   "nbconvert_exporter": "python",
   "pygments_lexer": "ipython3",
   "version": "3.10.13"
  }
 },
 "nbformat": 4,
 "nbformat_minor": 5
}
