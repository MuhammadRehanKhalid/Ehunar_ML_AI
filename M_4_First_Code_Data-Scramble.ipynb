{
 "cells": [
  {
   "cell_type": "markdown",
   "id": "df434767-a07c-401d-911c-d2acca2c349a",
   "metadata": {},
   "source": [
    "# User input and Scramble data"
   ]
  },
  {
   "cell_type": "code",
   "execution_count": 11,
   "id": "f8dc0711-643b-4324-b1ed-4bd389302171",
   "metadata": {
    "editable": true,
    "slideshow": {
     "slide_type": ""
    },
    "tags": []
   },
   "outputs": [
    {
     "name": "stdin",
     "output_type": "stream",
     "text": [
      "Please enter the password assigned Rehan\n"
     ]
    },
    {
     "name": "stdout",
     "output_type": "stream",
     "text": [
      "naheR\n",
      "Rehan\n"
     ]
    }
   ],
   "source": [
    "# input\n",
    "password = input('Please enter the password assigned')[::-1]\n",
    "\n",
    "print(password)\n",
    "print(password[::-1])"
   ]
  },
  {
   "cell_type": "code",
   "execution_count": 22,
   "id": "42a9e66d-e2bd-43e5-846f-a3c296f232d8",
   "metadata": {},
   "outputs": [
    {
     "name": "stdout",
     "output_type": "stream",
     "text": [
      "[1, 2, 3, 4, 5, 6]\n",
      "['a', 'b', 'c', 'd', 'e', 'f']\n",
      "[True, False]\n",
      "a\n"
     ]
    }
   ],
   "source": [
    "list_1 = [1,2,3,4,5,6]\n",
    "list_2 = ['a','b','c','d','e','f']\n",
    "list_3 = [True, False]\n",
    "list_4 = [[1,2,3,4,5,6],[True, False],['a','b','c','d','e','f']]\n",
    "print(list_1)\n",
    "print(list_2)\n",
    "print(list_3)\n",
    "print(list_4[2][0])"
   ]
  },
  {
   "cell_type": "code",
   "execution_count": 28,
   "id": "7fb9abfc-0448-4fc4-a35b-8158b9a7d089",
   "metadata": {},
   "outputs": [
    {
     "name": "stdout",
     "output_type": "stream",
     "text": [
      "['laptop', 100, 'bag', 'box']\n",
      "['laptop', 200, 'bag', 'box']\n"
     ]
    }
   ],
   "source": [
    "#Lists\n",
    "list_1 = ['laptop',100,'bag','box']\n",
    "new_list = list_1[:] #copy paste list\n",
    "new_list[1] = 200\n",
    "print(list_1)\n",
    "print(new_list)"
   ]
  },
  {
   "cell_type": "code",
   "execution_count": 2,
   "id": "c3a15b98-39ba-408a-bed9-fe21e1fcc051",
   "metadata": {},
   "outputs": [
    {
     "name": "stdout",
     "output_type": "stream",
     "text": [
      "['shoes', 'banana', 'mango', 'orange']\n",
      "['shoes', 'banana', 'mango', 'orange', 'oranges']\n",
      "['shoes', 'banana', 'mango', 'oranges']\n"
     ]
    }
   ],
   "source": [
    "shopping_cart = ['shoes', 'banana','orange']\n",
    "shopping_cart.insert(2,'mango')\n",
    "print(shopping_cart)\n",
    "shopping_cart.append('oranges')\n",
    "print(shopping_cart)\n",
    "shopping_cart.remove('orange')\n",
    "print(shopping_cart)\n",
    "shopping_cart.clear()"
   ]
  },
  {
   "cell_type": "code",
   "execution_count": 9,
   "id": "e57df64f-1408-47b6-937a-03ee1902def4",
   "metadata": {},
   "outputs": [
    {
     "name": "stdout",
     "output_type": "stream",
     "text": [
      "5\n",
      "3\n",
      "0\n",
      "0\n"
     ]
    }
   ],
   "source": [
    "number = [1,2,3,4,5,5,4,3,5,6,5,7,1,1,1,2,3,56,7,8,9,78,67,5,45,1]\n",
    "print(number.count(1))\n",
    "print(number.count(3))\n",
    "print(number.index(1))\n",
    "print(number.index(1,0,7))\n"
   ]
  },
  {
   "cell_type": "code",
   "execution_count": 19,
   "id": "c3ad8faa-e70b-4c09-9ea3-0766290e4985",
   "metadata": {
    "scrolled": true
   },
   "outputs": [
    {
     "name": "stdout",
     "output_type": "stream",
     "text": [
      "3\n",
      "None\n",
      "[1, 1, 1, 1, 1, 2, 2, 3, 3, 3, 4, 4, 5, 5, 5, 5, 5, 6, 7, 7, 8, 9, 45, 56, 67, 78]\n",
      "[78, 67, 56, 45, 9, 8, 7, 7, 6, 5, 5, 5, 5, 5, 4, 4, 3, 3, 3, 2, 2, 1, 1, 1, 1, 1]\n"
     ]
    }
   ],
   "source": [
    "list_1 = [1,3,5,'banana', 'apple', 4 , 5]\n",
    "print(list_1.index('banana'))\n",
    "list_2 = [1,2,3,4,5,5,4,3,5,6,5,7,1,1,1,2,3,56,7,8,9,78,67,5,45,1]\n",
    "print(list_2.sort())\n",
    "print(list_2)\n",
    "list_2.reverse()\n",
    "print(list_2)"
   ]
  },
  {
   "cell_type": "code",
   "execution_count": null,
   "id": "0ff8c7a1-511e-453c-b637-97a204085449",
   "metadata": {},
   "outputs": [],
   "source": []
  },
  {
   "cell_type": "code",
   "execution_count": null,
   "id": "3794fc49-0d0b-4454-83a9-1f46b61f9a0f",
   "metadata": {},
   "outputs": [],
   "source": []
  },
  {
   "cell_type": "code",
   "execution_count": null,
   "id": "5030bcf5-c829-4086-aab4-406ab74afb66",
   "metadata": {},
   "outputs": [],
   "source": []
  }
 ],
 "metadata": {
  "kernelspec": {
   "display_name": "Python 3 (ipykernel)",
   "language": "python",
   "name": "python3"
  },
  "language_info": {
   "codemirror_mode": {
    "name": "ipython",
    "version": 3
   },
   "file_extension": ".py",
   "mimetype": "text/x-python",
   "name": "python",
   "nbconvert_exporter": "python",
   "pygments_lexer": "ipython3",
   "version": "3.10.13"
  }
 },
 "nbformat": 4,
 "nbformat_minor": 5
}
