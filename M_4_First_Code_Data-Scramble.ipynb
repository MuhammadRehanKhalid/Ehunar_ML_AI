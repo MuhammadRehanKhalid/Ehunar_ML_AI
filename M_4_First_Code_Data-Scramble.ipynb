{
 "cells": [
  {
   "cell_type": "markdown",
   "id": "df434767-a07c-401d-911c-d2acca2c349a",
   "metadata": {},
   "source": [
    "# User input and Scramble data"
   ]
  },
  {
   "cell_type": "code",
   "execution_count": 11,
   "id": "f8dc0711-643b-4324-b1ed-4bd389302171",
   "metadata": {
    "editable": true,
    "slideshow": {
     "slide_type": ""
    },
    "tags": []
   },
   "outputs": [
    {
     "name": "stdin",
     "output_type": "stream",
     "text": [
      "Please enter the password assigned Rehan\n"
     ]
    },
    {
     "name": "stdout",
     "output_type": "stream",
     "text": [
      "naheR\n",
      "Rehan\n"
     ]
    }
   ],
   "source": [
    "# input\n",
    "password = input('Please enter the password assigned')[::-1]\n",
    "\n",
    "print(password)\n",
    "print(password[::-1])"
   ]
  },
  {
   "cell_type": "code",
   "execution_count": 22,
   "id": "42a9e66d-e2bd-43e5-846f-a3c296f232d8",
   "metadata": {},
   "outputs": [
    {
     "name": "stdout",
     "output_type": "stream",
     "text": [
      "[1, 2, 3, 4, 5, 6]\n",
      "['a', 'b', 'c', 'd', 'e', 'f']\n",
      "[True, False]\n",
      "a\n"
     ]
    }
   ],
   "source": [
    "list_1 = [1,2,3,4,5,6]\n",
    "list_2 = ['a','b','c','d','e','f']\n",
    "list_3 = [True, False]\n",
    "list_4 = [[1,2,3,4,5,6],[True, False],['a','b','c','d','e','f']]\n",
    "print(list_1)\n",
    "print(list_2)\n",
    "print(list_3)\n",
    "print(list_4[2][0])"
   ]
  },
  {
   "cell_type": "code",
   "execution_count": 28,
   "id": "7fb9abfc-0448-4fc4-a35b-8158b9a7d089",
   "metadata": {},
   "outputs": [
    {
     "name": "stdout",
     "output_type": "stream",
     "text": [
      "['laptop', 100, 'bag', 'box']\n",
      "['laptop', 200, 'bag', 'box']\n"
     ]
    }
   ],
   "source": [
    "#Lists\n",
    "list_1 = ['laptop',100,'bag','box']\n",
    "new_list = list_1[:] #copy paste list\n",
    "new_list[1] = 200\n",
    "print(list_1)\n",
    "print(new_list)"
   ]
  },
  {
   "cell_type": "code",
   "execution_count": 38,
   "id": "c3a15b98-39ba-408a-bed9-fe21e1fcc051",
   "metadata": {},
   "outputs": [
    {
     "name": "stdout",
     "output_type": "stream",
     "text": [
      "['shoes', 'banana', 'mango', 'orange']\n",
      "['shoes', 'banana', 'mango', 'orange', 'oranges']\n",
      "['shoes', 'banana', 'mango', 'oranges']\n"
     ]
    }
   ],
   "source": [
    "shopping_cart = ['shoes', 'banana','orange']\n",
    "shopping_cart.insert(2,'mango')\n",
    "print(shopping_cart)\n",
    "shopping_cart.append('oranges')\n",
    "print(shopping_cart)\n",
    "shopping_cart.remove('orange')\n",
    "print(shopping_cart)\n"
   ]
  }
 ],
 "metadata": {
  "kernelspec": {
   "display_name": "Python 3 (ipykernel)",
   "language": "python",
   "name": "python3"
  },
  "language_info": {
   "codemirror_mode": {
    "name": "ipython",
    "version": 3
   },
   "file_extension": ".py",
   "mimetype": "text/x-python",
   "name": "python",
   "nbconvert_exporter": "python",
   "pygments_lexer": "ipython3",
   "version": "3.10.13"
  }
 },
 "nbformat": 4,
 "nbformat_minor": 5
}
